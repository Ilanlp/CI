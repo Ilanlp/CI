{
 "cells": [
  {
   "cell_type": "code",
   "execution_count": null,
   "id": "774e6b82",
   "metadata": {},
   "outputs": [],
   "source": [
    "from sentence_transformers import SentenceTransformer, util\n",
    "\n",
    "# Charger un modèle pré-entraîné\n",
    "model = SentenceTransformer('paraphrase-MiniLM-L6-v2')\n",
    "\n",
    "# Phrases à comparer\n",
    "phrases = [\n",
    "    \"Cette phrase est un exemple.\",\n",
    "    \"Voici un exemple de phrase.\",\n",
    "    \"Ce texte est complètement différent.\"\n",
    "]\n",
    "\n",
    "# Calculer les embeddings\n",
    "embeddings = model.encode(phrases)\n",
    "\n",
    "# Calculer la matrice de similarité cosinus\n",
    "cosine_scores = util.cos_sim(embeddings, embeddings)\n",
    "\n",
    "# Afficher les résultats\n",
    "for i in range(len(phrases)):\n",
    "    for j in range(i+1, len(phrases)):\n",
    "        print(f\"Similarité entre '{phrases[i]}' et '{phrases[j]}': {cosine_scores[i][j]:.4f}\")"
   ]
  }
 ],
 "metadata": {
  "language_info": {
   "name": "python"
  }
 },
 "nbformat": 4,
 "nbformat_minor": 5
}
