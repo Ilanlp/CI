{
 "cells": [
  {
   "cell_type": "markdown",
   "metadata": {},
   "source": [
    "# Web Scrapping France Travail API Offres d'emploi"
   ]
  },
  {
   "cell_type": "code",
   "execution_count": 28,
   "metadata": {},
   "outputs": [],
   "source": [
    "import requests\n",
    "import os, sys\n",
    "from dotenv import load_dotenv\n",
    "import pandas as pd\n",
    "import numpy as np\n",
    "import time"
   ]
  },
  {
   "cell_type": "markdown",
   "metadata": {},
   "source": [
    "### Importation des variables d'environnements"
   ]
  },
  {
   "cell_type": "code",
   "execution_count": 29,
   "metadata": {},
   "outputs": [],
   "source": [
    "load_dotenv()\n",
    "\n",
    "BASE_URL = \"https://api.francetravail.io/partenaire/offresdemploi\"\n",
    "TOKEN_URL = \"https://entreprise.francetravail.fr/connexion/oauth2/access_token?realm=/partenaire\"\n",
    "PUBLIC_KEY = os.environ.get(\"FT_PUBLIC_KEY\")\n",
    "PRIVATE_KEY = os.environ.get(\"FT_PRIVATE_KEY\")"
   ]
  },
  {
   "cell_type": "markdown",
   "metadata": {},
   "source": [
    "### Fonction de récupération du token"
   ]
  },
  {
   "cell_type": "code",
   "execution_count": 30,
   "metadata": {},
   "outputs": [],
   "source": [
    "def get_token():\n",
    "    try:\n",
    "        res = requests.post(TOKEN_URL, data={\n",
    "            \"grant_type\": \"client_credentials\",\n",
    "            \"client_id\":PUBLIC_KEY,\n",
    "            \"client_secret\":PRIVATE_KEY,\n",
    "            \"scope\": \"api_offresdemploiv2 o2dsoffre\"\n",
    "        }\n",
    "    )\n",
    "        return res\n",
    "    except Exception as err :\n",
    "        sys.exit(err)"
   ]
  },
  {
   "cell_type": "markdown",
   "metadata": {},
   "source": [
    "### Fonction de récupération des requêtes en fonction des paramètres"
   ]
  },
  {
   "cell_type": "code",
   "execution_count": 31,
   "metadata": {},
   "outputs": [],
   "source": [
    "def get_response_from_url(url,params):\n",
    "    try:\n",
    "        token = get_token()\n",
    "        if token.status_code == 200:\n",
    "            token = token.json().get('access_token')\n",
    "            \n",
    "        res = requests.get(\n",
    "            url,\n",
    "            headers={\"Authorization\": f\"Bearer {token}\"},\n",
    "            params=params\n",
    "        )\n",
    "        return res\n",
    "    except Exception as err :\n",
    "        sys.exit(err)"
   ]
  },
  {
   "cell_type": "markdown",
   "metadata": {},
   "source": [
    "### Récupération du premier élément de l'ENDPOINTS \"Rechercher des offres\" dans l'API \"Offres d'emploi\""
   ]
  },
  {
   "cell_type": "code",
   "execution_count": 34,
   "metadata": {},
   "outputs": [
    {
     "name": "stdout",
     "output_type": "stream",
     "text": [
      "taille : 1\n"
     ]
    },
    {
     "data": {
      "text/plain": [
       "[{'id': '190PSZZ',\n",
       "  'intitule': 'Regisseur / Regisseuse (H/F)',\n",
       "  'description': \"Pour une agence de location de jeux et d'animations pour adultes et enfants, vous travaillerez à la préparation des camions et installation sur sites. Vous procèderez ensuite au démontage, rangement et entretien du matériel.\\n\\nLe départ et le retour du matériel après la prestation se font  au Vigan (30120).\\nL'entretien du matériel se fait toujours sur place, à l'entrepôt .\\n\\nTous les frais liés aux déplacements seront pris en charge : kms, restauration et hébergement. \\nVenez rencontrer l'employeur le 30 avril. \\nPour s'inscrire : https://mesevenementsemploi.francetravail.fr/mes-evenements-emploi/evenement/423999/recrutement-mes-scenes-de-star-le-vigan\\n\",\n",
       "  'dateCreation': '2025-04-03T16:47:41.251Z',\n",
       "  'dateActualisation': '2025-04-03T16:47:41.251Z',\n",
       "  'lieuTravail': {'libelle': '30 - LE VIGAN',\n",
       "   'latitude': 43.988139,\n",
       "   'longitude': 3.613502,\n",
       "   'codePostal': '30120',\n",
       "   'commune': '30350'},\n",
       "  'romeCode': 'L1509',\n",
       "  'romeLibelle': 'Régisseur / Régisseuse de production',\n",
       "  'appellationlibelle': 'Régisseur / Régisseuse de production',\n",
       "  'entreprise': {'entrepriseAdaptee': False},\n",
       "  'typeContrat': 'CDI',\n",
       "  'typeContratLibelle': 'CDI',\n",
       "  'natureContrat': 'Contrat intermittent',\n",
       "  'experienceExige': 'E',\n",
       "  'experienceLibelle': '1 An(s)',\n",
       "  'permis': [{'libelle': 'B - Véhicule léger', 'exigence': 'E'},\n",
       "   {'libelle': 'EB - Véhicule léger + remorque', 'exigence': 'E'}],\n",
       "  'competences': [{'code': '100016',\n",
       "    'libelle': 'Gestes et postures de manutention',\n",
       "    'exigence': 'S'},\n",
       "   {'code': '100343', 'libelle': 'Législation sociale', 'exigence': 'S'},\n",
       "   {'code': '100091',\n",
       "    'libelle': 'Normes de sécurité des espaces et des établissements recevant du public',\n",
       "    'exigence': 'S'},\n",
       "   {'code': '100017', 'libelle': 'Règles de sécurité', 'exigence': 'S'},\n",
       "   {'code': '124208',\n",
       "    'libelle': \"Installer du matériel d'éclairage de scène\",\n",
       "    'exigence': 'S'},\n",
       "   {'code': '124209',\n",
       "    'libelle': 'Installer du matériel de sonorisation',\n",
       "    'exigence': 'S'},\n",
       "   {'code': '300261',\n",
       "    'libelle': 'Organiser et contrôler un approvisionnement',\n",
       "    'exigence': 'S'},\n",
       "   {'code': '300264',\n",
       "    'libelle': 'Manipuler un engin de manutention ou de chantier',\n",
       "    'exigence': 'S'},\n",
       "   {'code': '300265',\n",
       "    'libelle': 'Charger, décharger, manutentionner des produits',\n",
       "    'exigence': 'S'},\n",
       "   {'code': '109333',\n",
       "    'libelle': \"Superviser l'acheminement et l'installation de la logistique et de la signalétique sur le lieu d'un spectacle ou d'un tournage\",\n",
       "    'exigence': 'S'},\n",
       "   {'code': '124377',\n",
       "    'libelle': \"Assurer la gestion administrative d'une activité\",\n",
       "    'exigence': 'S'},\n",
       "   {'code': '300124',\n",
       "    'libelle': 'Comprendre, interpréter des données et documents techniques',\n",
       "    'exigence': 'S'},\n",
       "   {'libelle': 'Apétence pour la mécanique', 'exigence': 'E'},\n",
       "   {'libelle': 'Compétences administratives', 'exigence': 'E'},\n",
       "   {'libelle': 'Maitrise outil informatique', 'exigence': 'S'}],\n",
       "  'salaire': {'commentaire': 'cachet', 'complement1': 'Autre'},\n",
       "  'dureeTravailLibelle': '35H Port et manipulation de charges lourdes ou encombrantes',\n",
       "  'dureeTravailLibelleConverti': 'Temps plein',\n",
       "  'alternance': False,\n",
       "  'contact': {'nom': 'Agence France Travail LE VIGAN',\n",
       "   'coordonnees1': 'ZAC DE TESSAN ROND-POINT DE TESSAN                  ',\n",
       "   'coordonnees2': '30120 Vigan',\n",
       "   'coordonnees3': 'Pour postuler, utiliser le lien suivant : https://candidat.francetravail.fr/offres/recherche/detail/190PSZZ'},\n",
       "  'agence': {'courriel': 'Pour postuler, utiliser le lien suivant : https://candidat.francetravail.fr/offres/recherche/detail/190PSZZ'},\n",
       "  'nombrePostes': 1,\n",
       "  'accessibleTH': False,\n",
       "  'deplacementCode': '3',\n",
       "  'deplacementLibelle': 'Fréquents',\n",
       "  'qualificationCode': '5',\n",
       "  'qualificationLibelle': 'Employé non qualifié',\n",
       "  'codeNAF': '90.01Z',\n",
       "  'secteurActivite': '90',\n",
       "  'secteurActiviteLibelle': 'Arts du spectacle vivant',\n",
       "  'origineOffre': {'origine': '1',\n",
       "   'urlOrigine': 'https://candidat.francetravail.fr/offres/recherche/detail/190PSZZ'},\n",
       "  'offresManqueCandidats': False,\n",
       "  'contexteTravail': {'horaires': ['35H Port et manipulation de charges lourdes ou encombrantes'],\n",
       "   'conditionsExercice': ['Port et manipulation de charges lourdes ou encombrantes']}}]"
      ]
     },
     "execution_count": 34,
     "metadata": {},
     "output_type": "execute_result"
    }
   ],
   "source": [
    "res = get_response_from_url(f\"{BASE_URL}/v2/offres/search\",params={'range':\"0-0\"})\n",
    "print(f\"taille : {len(res.json()['resultats'])}\")\n",
    "res.json()['resultats']"
   ]
  },
  {
   "cell_type": "markdown",
   "metadata": {},
   "source": [
    "### Récupération de toutes les ranges possibles du paramètre range "
   ]
  },
  {
   "cell_type": "code",
   "execution_count": 35,
   "metadata": {},
   "outputs": [
    {
     "data": {
      "text/plain": [
       "array([   0,  150,  300,  450,  600,  750,  900, 1050, 1200, 1350, 1500,\n",
       "       1650, 1800, 1950, 2100, 2250, 2400, 2550, 2700, 2850, 3000, 3150])"
      ]
     },
     "execution_count": 35,
     "metadata": {},
     "output_type": "execute_result"
    }
   ],
   "source": [
    "full_range_param = np.arange(0,3151,150)\n",
    "full_range_param[-1] = full_range_param[-1]\n",
    "full_range_param"
   ]
  },
  {
   "cell_type": "markdown",
   "metadata": {},
   "source": [
    "### Fonction de récupération de toutes les offres d'emploi"
   ]
  },
  {
   "cell_type": "code",
   "execution_count": 36,
   "metadata": {},
   "outputs": [],
   "source": [
    "def get_all_data(range_call):\n",
    "    res = np.array([])\n",
    "    while len(range_call) > 1:\n",
    "        d = range_call[0]\n",
    "        p = range_call[1] - 1\n",
    "        range_call = np.delete(range_call,0)\n",
    "\n",
    "        print(f\"{d}-{p}\")\n",
    "        res = np.append(\n",
    "            res,\n",
    "            get_response_from_url(f\"{BASE_URL}/v2/offres/search\",params={'range':f'{d}-{p}'})\n",
    "            .json()['resultats']\n",
    "        )\n",
    "        time.sleep(0.10)\n",
    "        \n",
    "\n",
    "    return res\n"
   ]
  },
  {
   "cell_type": "code",
   "execution_count": 37,
   "metadata": {},
   "outputs": [
    {
     "name": "stdout",
     "output_type": "stream",
     "text": [
      "0-149\n",
      "150-299\n",
      "300-449\n",
      "450-599\n",
      "600-749\n",
      "750-899\n",
      "900-1049\n",
      "1050-1199\n",
      "1200-1349\n",
      "1350-1499\n",
      "1500-1649\n",
      "1650-1799\n",
      "1800-1949\n",
      "1950-2099\n",
      "2100-2249\n",
      "2250-2399\n",
      "2400-2549\n",
      "2550-2699\n",
      "2700-2849\n",
      "2850-2999\n",
      "3000-3149\n"
     ]
    }
   ],
   "source": [
    "res = get_all_data(full_range_param)"
   ]
  },
  {
   "cell_type": "code",
   "execution_count": 38,
   "metadata": {},
   "outputs": [],
   "source": [
    "df = pd.DataFrame(res.tolist())"
   ]
  },
  {
   "cell_type": "code",
   "execution_count": 39,
   "metadata": {},
   "outputs": [
    {
     "data": {
      "text/plain": [
       "(3150, 41)"
      ]
     },
     "execution_count": 39,
     "metadata": {},
     "output_type": "execute_result"
    }
   ],
   "source": [
    "df.shape"
   ]
  },
  {
   "cell_type": "code",
   "execution_count": 43,
   "metadata": {},
   "outputs": [
    {
     "data": {
      "text/html": [
       "<div>\n",
       "<style scoped>\n",
       "    .dataframe tbody tr th:only-of-type {\n",
       "        vertical-align: middle;\n",
       "    }\n",
       "\n",
       "    .dataframe tbody tr th {\n",
       "        vertical-align: top;\n",
       "    }\n",
       "\n",
       "    .dataframe thead th {\n",
       "        text-align: right;\n",
       "    }\n",
       "</style>\n",
       "<table border=\"1\" class=\"dataframe\">\n",
       "  <thead>\n",
       "    <tr style=\"text-align: right;\">\n",
       "      <th></th>\n",
       "      <th>id</th>\n",
       "      <th>intitule</th>\n",
       "      <th>description</th>\n",
       "      <th>dateCreation</th>\n",
       "      <th>dateActualisation</th>\n",
       "      <th>lieuTravail</th>\n",
       "      <th>romeCode</th>\n",
       "      <th>romeLibelle</th>\n",
       "      <th>appellationlibelle</th>\n",
       "      <th>entreprise</th>\n",
       "      <th>...</th>\n",
       "      <th>offresManqueCandidats</th>\n",
       "      <th>contexteTravail</th>\n",
       "      <th>formations</th>\n",
       "      <th>deplacementCode</th>\n",
       "      <th>deplacementLibelle</th>\n",
       "      <th>permis</th>\n",
       "      <th>langues</th>\n",
       "      <th>experienceCommentaire</th>\n",
       "      <th>complementExercice</th>\n",
       "      <th>conditionExercice</th>\n",
       "    </tr>\n",
       "  </thead>\n",
       "  <tbody>\n",
       "    <tr>\n",
       "      <th>0</th>\n",
       "      <td>190PTBF</td>\n",
       "      <td>Formateur Services à la Personne (H/F)</td>\n",
       "      <td>L'ENTREPRISE :\\n\\nVIA Formation, entité du Gro...</td>\n",
       "      <td>2025-04-03T16:48:02.846Z</td>\n",
       "      <td>2025-04-03T16:48:03.420Z</td>\n",
       "      <td>{'libelle': '37 - La Riche', 'latitude': 47.38...</td>\n",
       "      <td>K2111</td>\n",
       "      <td>Formateur / Formatrice</td>\n",
       "      <td>Formateur / Formatrice</td>\n",
       "      <td>{'nom': 'VIA FORMATION', 'description': 'Via F...</td>\n",
       "      <td>...</td>\n",
       "      <td>False</td>\n",
       "      <td>{'horaires': ['temps partiel - 15H45 Travail e...</td>\n",
       "      <td>NaN</td>\n",
       "      <td>NaN</td>\n",
       "      <td>NaN</td>\n",
       "      <td>NaN</td>\n",
       "      <td>NaN</td>\n",
       "      <td>NaN</td>\n",
       "      <td>NaN</td>\n",
       "      <td>NaN</td>\n",
       "    </tr>\n",
       "    <tr>\n",
       "      <th>1</th>\n",
       "      <td>190PTBD</td>\n",
       "      <td>Audioprothésiste Franchisé (H/F)</td>\n",
       "      <td>A la recherche d'une nouvelle opportunité prof...</td>\n",
       "      <td>2025-04-03T16:47:58.678Z</td>\n",
       "      <td>2025-04-03T16:47:59.170Z</td>\n",
       "      <td>{'libelle': 'Pays de la Loire'}</td>\n",
       "      <td>J1401</td>\n",
       "      <td>Audioprothésiste</td>\n",
       "      <td>Audioprothésiste</td>\n",
       "      <td>{'entrepriseAdaptee': False}</td>\n",
       "      <td>...</td>\n",
       "      <td>False</td>\n",
       "      <td>{}</td>\n",
       "      <td>[{'codeFormation': '43495', 'domaineLibelle': ...</td>\n",
       "      <td>1</td>\n",
       "      <td>Jamais</td>\n",
       "      <td>NaN</td>\n",
       "      <td>NaN</td>\n",
       "      <td>NaN</td>\n",
       "      <td>NaN</td>\n",
       "      <td>NaN</td>\n",
       "    </tr>\n",
       "    <tr>\n",
       "      <th>2</th>\n",
       "      <td>190PSZZ</td>\n",
       "      <td>Regisseur / Regisseuse (H/F)</td>\n",
       "      <td>Pour une agence de location de jeux et d'anima...</td>\n",
       "      <td>2025-04-03T16:47:41.251Z</td>\n",
       "      <td>2025-04-03T16:47:41.251Z</td>\n",
       "      <td>{'libelle': '30 - LE VIGAN', 'latitude': 43.98...</td>\n",
       "      <td>L1509</td>\n",
       "      <td>Régisseur / Régisseuse de production</td>\n",
       "      <td>Régisseur / Régisseuse de production</td>\n",
       "      <td>{'entrepriseAdaptee': False}</td>\n",
       "      <td>...</td>\n",
       "      <td>False</td>\n",
       "      <td>{'horaires': ['35H Port et manipulation de cha...</td>\n",
       "      <td>NaN</td>\n",
       "      <td>3</td>\n",
       "      <td>Fréquents</td>\n",
       "      <td>[{'libelle': 'B - Véhicule léger', 'exigence':...</td>\n",
       "      <td>NaN</td>\n",
       "      <td>NaN</td>\n",
       "      <td>NaN</td>\n",
       "      <td>NaN</td>\n",
       "    </tr>\n",
       "    <tr>\n",
       "      <th>3</th>\n",
       "      <td>190PSZV</td>\n",
       "      <td>Agent technique polyvalent en milieux rural (H...</td>\n",
       "      <td>Savoir travailler au sein d'une équipe réduite...</td>\n",
       "      <td>2025-04-03T16:47:22.489Z</td>\n",
       "      <td>2025-04-03T16:47:39.191Z</td>\n",
       "      <td>{'libelle': '73 - saint paul sur  YENNE', 'lat...</td>\n",
       "      <td>I1203</td>\n",
       "      <td>Agent / Agente d'entretien du bâtiment</td>\n",
       "      <td>Ouvrier(ère) polyvalent(e) d'entretien des bât...</td>\n",
       "      <td>{'nom': 'salon de l'emploi public territorial ...</td>\n",
       "      <td>...</td>\n",
       "      <td>False</td>\n",
       "      <td>{'horaires': ['35H Autre'], 'conditionsExercic...</td>\n",
       "      <td>NaN</td>\n",
       "      <td>NaN</td>\n",
       "      <td>NaN</td>\n",
       "      <td>NaN</td>\n",
       "      <td>NaN</td>\n",
       "      <td>NaN</td>\n",
       "      <td>NaN</td>\n",
       "      <td>NaN</td>\n",
       "    </tr>\n",
       "    <tr>\n",
       "      <th>4</th>\n",
       "      <td>190PSZT</td>\n",
       "      <td>Auxiliaire de vie (H/F)</td>\n",
       "      <td>Nous recherchons un(e) Auxiliaire de Vie motiv...</td>\n",
       "      <td>2025-04-03T16:47:21.587Z</td>\n",
       "      <td>2025-04-03T16:47:22.280Z</td>\n",
       "      <td>{'libelle': '65 - ARGELES GAZOST', 'latitude':...</td>\n",
       "      <td>K1311</td>\n",
       "      <td>Assistant / Assistante de vie aux familles</td>\n",
       "      <td>Auxiliaire de vie</td>\n",
       "      <td>{'nom': 'VITALLIANCE', 'description': 'Service...</td>\n",
       "      <td>...</td>\n",
       "      <td>False</td>\n",
       "      <td>{'horaires': ['35H Travail en journée']}</td>\n",
       "      <td>NaN</td>\n",
       "      <td>2</td>\n",
       "      <td>Ponctuels Zone départementale</td>\n",
       "      <td>[{'libelle': 'B - Véhicule léger', 'exigence':...</td>\n",
       "      <td>NaN</td>\n",
       "      <td>NaN</td>\n",
       "      <td>NaN</td>\n",
       "      <td>NaN</td>\n",
       "    </tr>\n",
       "  </tbody>\n",
       "</table>\n",
       "<p>5 rows × 41 columns</p>\n",
       "</div>"
      ],
      "text/plain": [
       "        id                                           intitule  \\\n",
       "0  190PTBF             Formateur Services à la Personne (H/F)   \n",
       "1  190PTBD                   Audioprothésiste Franchisé (H/F)   \n",
       "2  190PSZZ                       Regisseur / Regisseuse (H/F)   \n",
       "3  190PSZV  Agent technique polyvalent en milieux rural (H...   \n",
       "4  190PSZT                            Auxiliaire de vie (H/F)   \n",
       "\n",
       "                                         description  \\\n",
       "0  L'ENTREPRISE :\\n\\nVIA Formation, entité du Gro...   \n",
       "1  A la recherche d'une nouvelle opportunité prof...   \n",
       "2  Pour une agence de location de jeux et d'anima...   \n",
       "3  Savoir travailler au sein d'une équipe réduite...   \n",
       "4  Nous recherchons un(e) Auxiliaire de Vie motiv...   \n",
       "\n",
       "               dateCreation         dateActualisation  \\\n",
       "0  2025-04-03T16:48:02.846Z  2025-04-03T16:48:03.420Z   \n",
       "1  2025-04-03T16:47:58.678Z  2025-04-03T16:47:59.170Z   \n",
       "2  2025-04-03T16:47:41.251Z  2025-04-03T16:47:41.251Z   \n",
       "3  2025-04-03T16:47:22.489Z  2025-04-03T16:47:39.191Z   \n",
       "4  2025-04-03T16:47:21.587Z  2025-04-03T16:47:22.280Z   \n",
       "\n",
       "                                         lieuTravail romeCode  \\\n",
       "0  {'libelle': '37 - La Riche', 'latitude': 47.38...    K2111   \n",
       "1                    {'libelle': 'Pays de la Loire'}    J1401   \n",
       "2  {'libelle': '30 - LE VIGAN', 'latitude': 43.98...    L1509   \n",
       "3  {'libelle': '73 - saint paul sur  YENNE', 'lat...    I1203   \n",
       "4  {'libelle': '65 - ARGELES GAZOST', 'latitude':...    K1311   \n",
       "\n",
       "                                  romeLibelle  \\\n",
       "0                      Formateur / Formatrice   \n",
       "1                            Audioprothésiste   \n",
       "2        Régisseur / Régisseuse de production   \n",
       "3      Agent / Agente d'entretien du bâtiment   \n",
       "4  Assistant / Assistante de vie aux familles   \n",
       "\n",
       "                                  appellationlibelle  \\\n",
       "0                             Formateur / Formatrice   \n",
       "1                                   Audioprothésiste   \n",
       "2               Régisseur / Régisseuse de production   \n",
       "3  Ouvrier(ère) polyvalent(e) d'entretien des bât...   \n",
       "4                                  Auxiliaire de vie   \n",
       "\n",
       "                                          entreprise  ...  \\\n",
       "0  {'nom': 'VIA FORMATION', 'description': 'Via F...  ...   \n",
       "1                       {'entrepriseAdaptee': False}  ...   \n",
       "2                       {'entrepriseAdaptee': False}  ...   \n",
       "3  {'nom': 'salon de l'emploi public territorial ...  ...   \n",
       "4  {'nom': 'VITALLIANCE', 'description': 'Service...  ...   \n",
       "\n",
       "  offresManqueCandidats                                    contexteTravail  \\\n",
       "0                 False  {'horaires': ['temps partiel - 15H45 Travail e...   \n",
       "1                 False                                                 {}   \n",
       "2                 False  {'horaires': ['35H Port et manipulation de cha...   \n",
       "3                 False  {'horaires': ['35H Autre'], 'conditionsExercic...   \n",
       "4                 False           {'horaires': ['35H Travail en journée']}   \n",
       "\n",
       "                                          formations deplacementCode  \\\n",
       "0                                                NaN             NaN   \n",
       "1  [{'codeFormation': '43495', 'domaineLibelle': ...               1   \n",
       "2                                                NaN               3   \n",
       "3                                                NaN             NaN   \n",
       "4                                                NaN               2   \n",
       "\n",
       "              deplacementLibelle  \\\n",
       "0                            NaN   \n",
       "1                         Jamais   \n",
       "2                      Fréquents   \n",
       "3                            NaN   \n",
       "4  Ponctuels Zone départementale   \n",
       "\n",
       "                                              permis langues  \\\n",
       "0                                                NaN     NaN   \n",
       "1                                                NaN     NaN   \n",
       "2  [{'libelle': 'B - Véhicule léger', 'exigence':...     NaN   \n",
       "3                                                NaN     NaN   \n",
       "4  [{'libelle': 'B - Véhicule léger', 'exigence':...     NaN   \n",
       "\n",
       "  experienceCommentaire complementExercice  conditionExercice  \n",
       "0                   NaN                NaN                NaN  \n",
       "1                   NaN                NaN                NaN  \n",
       "2                   NaN                NaN                NaN  \n",
       "3                   NaN                NaN                NaN  \n",
       "4                   NaN                NaN                NaN  \n",
       "\n",
       "[5 rows x 41 columns]"
      ]
     },
     "execution_count": 43,
     "metadata": {},
     "output_type": "execute_result"
    }
   ],
   "source": [
    "df.head()"
   ]
  },
  {
   "cell_type": "markdown",
   "metadata": {},
   "source": [
    "### Export csv"
   ]
  },
  {
   "cell_type": "code",
   "execution_count": 41,
   "metadata": {},
   "outputs": [],
   "source": [
    "df.to_csv('full_recherche_emploi_brut.csv')"
   ]
  }
 ],
 "metadata": {
  "kernelspec": {
   "display_name": ".venv",
   "language": "python",
   "name": "python3"
  },
  "language_info": {
   "codemirror_mode": {
    "name": "ipython",
    "version": 3
   },
   "file_extension": ".py",
   "mimetype": "text/x-python",
   "name": "python",
   "nbconvert_exporter": "python",
   "pygments_lexer": "ipython3",
   "version": "3.11.9"
  }
 },
 "nbformat": 4,
 "nbformat_minor": 2
}
