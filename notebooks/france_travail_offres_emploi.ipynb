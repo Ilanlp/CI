{
 "cells": [
  {
   "cell_type": "markdown",
   "metadata": {},
   "source": [
    "# Web Scrapping France Travail API Offres d'emploi"
   ]
  },
  {
   "cell_type": "code",
   "execution_count": 1,
   "metadata": {},
   "outputs": [],
   "source": [
    "import requests\n",
    "import os, sys\n",
    "from dotenv import load_dotenv\n",
    "import pandas as pd\n",
    "import numpy as np\n",
    "import time"
   ]
  },
  {
   "cell_type": "markdown",
   "metadata": {},
   "source": [
    "### Importation des variables d'environnements"
   ]
  },
  {
   "cell_type": "code",
   "execution_count": 2,
   "metadata": {},
   "outputs": [],
   "source": [
    "load_dotenv()\n",
    "\n",
    "BASE_URL = \"https://api.francetravail.io/partenaire/offresdemploi\"\n",
    "TOKEN_URL = \"https://entreprise.francetravail.fr/connexion/oauth2/access_token?realm=/partenaire\"\n",
    "PUBLIC_KEY = os.environ.get(\"FT_PUBLIC_KEY\")\n",
    "PRIVATE_KEY = os.environ.get(\"FT_PRIVATE_KEY\")"
   ]
  },
  {
   "cell_type": "markdown",
   "metadata": {},
   "source": [
    "### Fonction de récupération du token"
   ]
  },
  {
   "cell_type": "code",
   "execution_count": 3,
   "metadata": {},
   "outputs": [],
   "source": [
    "def get_token():\n",
    "    try:\n",
    "        res = requests.post(TOKEN_URL, data={\n",
    "            \"grant_type\": \"client_credentials\",\n",
    "            \"client_id\":PUBLIC_KEY,\n",
    "            \"client_secret\":PRIVATE_KEY,\n",
    "            \"scope\": \"api_offresdemploiv2 o2dsoffre\"\n",
    "        }\n",
    "    )\n",
    "        return res\n",
    "    except Exception as err :\n",
    "        sys.exit(err)"
   ]
  },
  {
   "cell_type": "markdown",
   "metadata": {},
   "source": [
    "### Fonction de récupération des requêtes en fonction des paramètres"
   ]
  },
  {
   "cell_type": "code",
   "execution_count": 4,
   "metadata": {},
   "outputs": [],
   "source": [
    "def get_response_from_url(url,params):\n",
    "    try:\n",
    "        token = get_token()\n",
    "        if token.status_code == 200:\n",
    "            token = token.json().get('access_token')\n",
    "            \n",
    "        res = requests.get(\n",
    "            url,\n",
    "            headers={\"Authorization\": f\"Bearer {token}\"},\n",
    "            params=params\n",
    "        )\n",
    "        return res\n",
    "    except Exception as err :\n",
    "        sys.exit(err)"
   ]
  },
  {
   "cell_type": "markdown",
   "metadata": {},
   "source": [
    "### Récupération du premier élément de l'ENDPOINTS \"Rechercher des offres\" dans l'API \"Offres d'emploi\""
   ]
  },
  {
   "cell_type": "code",
   "execution_count": 5,
   "metadata": {},
   "outputs": [
    {
     "name": "stdout",
     "output_type": "stream",
     "text": [
      "taille : 1\n"
     ]
    },
    {
     "data": {
      "text/plain": [
       "[{'id': '190PKVQ',\n",
       "  'intitule': 'Mécanicien / Mécanicienne agricole (H/F)',\n",
       "  'description': \"urgent!!!!\\nmécanicien agricole polyvalent \\nentretien et réparation tous matériels agricoles +VL +parc automobile\\nsavoir être polyvalent et s'adapter aux demandes\\npossibilité TRACTORISTE/ CHAUFFEUR\\nSalaire négociable selon compétences\\névolution possible selon profil\\n\\nposte NON logé\",\n",
       "  'dateCreation': '2025-04-03T14:15:51.738Z',\n",
       "  'dateActualisation': '2025-04-03T14:15:52.276Z',\n",
       "  'lieuTravail': {'libelle': '2B - LUCCIANA',\n",
       "   'latitude': 42.542189,\n",
       "   'longitude': 9.472991,\n",
       "   'codePostal': '20290',\n",
       "   'commune': '2B148'},\n",
       "  'romeCode': 'I1603',\n",
       "  'romeLibelle': 'Mécanicien-réparateur / Mécanicienne-réparatrice en matériels agricoles',\n",
       "  'appellationlibelle': 'Mécanicien / Mécanicienne agricole',\n",
       "  'entreprise': {'nom': 'SCEA SANTINI', 'entrepriseAdaptee': False},\n",
       "  'typeContrat': 'CDD',\n",
       "  'typeContratLibelle': 'CDD - 6 Mois',\n",
       "  'natureContrat': 'Contrat travail',\n",
       "  'experienceExige': 'E',\n",
       "  'experienceLibelle': '2 An(s)',\n",
       "  'langues': [{'libelle': 'Français', 'exigence': 'S'}],\n",
       "  'permis': [{'libelle': 'B mention 79.06 (= EB)', 'exigence': 'E'}],\n",
       "  'competences': [{'code': '106362',\n",
       "    'libelle': 'Circuits hydrauliques',\n",
       "    'exigence': 'E'},\n",
       "   {'code': '104547', 'libelle': 'Pneumatique', 'exigence': 'E'}],\n",
       "  'salaire': {'libelle': 'Mensuel de 1803.0 Euros sur 12.0 mois',\n",
       "   'complement1': 'Mutuelle'},\n",
       "  'dureeTravailLibelle': '35H Travail en journée',\n",
       "  'dureeTravailLibelleConverti': 'Temps plein',\n",
       "  'alternance': False,\n",
       "  'contact': {'nom': 'SCEA SANTINI - Mme christelle SANTINI',\n",
       "   'coordonnees1': 'Pour postuler, utiliser le lien suivant : https://candidat.francetravail.fr/offres/recherche/detail/190PKVQ',\n",
       "   'courriel': 'Pour postuler, utiliser le lien suivant : https://candidat.francetravail.fr/offres/recherche/detail/190PKVQ'},\n",
       "  'agence': {},\n",
       "  'nombrePostes': 1,\n",
       "  'accessibleTH': False,\n",
       "  'deplacementCode': '1',\n",
       "  'deplacementLibelle': 'Jamais',\n",
       "  'qualificationCode': '1',\n",
       "  'qualificationLibelle': 'Manœuvre',\n",
       "  'codeNAF': '01.13Z',\n",
       "  'secteurActivite': '01',\n",
       "  'secteurActiviteLibelle': 'Culture de légumes, de melons, de racines et de tubercules',\n",
       "  'origineOffre': {'origine': '1',\n",
       "   'urlOrigine': 'https://candidat.francetravail.fr/offres/recherche/detail/190PKVQ'},\n",
       "  'offresManqueCandidats': False,\n",
       "  'contexteTravail': {'horaires': ['35H Travail en journée']}}]"
      ]
     },
     "execution_count": 5,
     "metadata": {},
     "output_type": "execute_result"
    }
   ],
   "source": [
    "res = get_response_from_url(f\"{BASE_URL}/v2/offres/search\",params={'range':\"1-1\"})\n",
    "print(f\"taille : {len(res.json()['resultats'])}\")\n",
    "res.json()['resultats']"
   ]
  },
  {
   "cell_type": "markdown",
   "metadata": {},
   "source": [
    "### Récupération de toutes les ranges possibles du paramètre range "
   ]
  },
  {
   "cell_type": "code",
   "execution_count": 6,
   "metadata": {},
   "outputs": [
    {
     "data": {
      "text/plain": [
       "array([   0,  150,  300,  450,  600,  750,  900, 1050, 1200, 1350, 1500,\n",
       "       1650, 1800, 1950, 2100, 2250, 2400, 2550, 2700, 2850, 3000, 3150])"
      ]
     },
     "execution_count": 6,
     "metadata": {},
     "output_type": "execute_result"
    }
   ],
   "source": [
    "full_range_param = np.arange(0,3151,150)\n",
    "full_range_param[-1] = full_range_param[-1]\n",
    "full_range_param"
   ]
  },
  {
   "cell_type": "markdown",
   "metadata": {},
   "source": [
    "### Fonction de récupération de toutes les offres d'emploi"
   ]
  },
  {
   "cell_type": "code",
   "execution_count": 7,
   "metadata": {},
   "outputs": [],
   "source": [
    "def get_all_data(range_call):\n",
    "    res = np.array([])\n",
    "    while len(range_call) > 1:\n",
    "        d = range_call[0]\n",
    "        p = range_call[1] - 1\n",
    "        range_call = np.delete(range_call,0)\n",
    "\n",
    "        print(f\"{d}-{p}\")\n",
    "        res = np.append(\n",
    "            res,\n",
    "            get_response_from_url(f\"{BASE_URL}/v2/offres/search\",params={'range':'1-150'})\n",
    "            .json()['resultats']\n",
    "        )\n",
    "        time.sleep(0.10)\n",
    "        \n",
    "\n",
    "    return res\n"
   ]
  },
  {
   "cell_type": "code",
   "execution_count": 8,
   "metadata": {},
   "outputs": [
    {
     "name": "stdout",
     "output_type": "stream",
     "text": [
      "0-149\n",
      "150-299\n",
      "300-449\n",
      "450-599\n",
      "600-749\n",
      "750-899\n",
      "900-1049\n",
      "1050-1199\n",
      "1200-1349\n",
      "1350-1499\n",
      "1500-1649\n",
      "1650-1799\n",
      "1800-1949\n",
      "1950-2099\n",
      "2100-2249\n",
      "2250-2399\n",
      "2400-2549\n",
      "2550-2699\n",
      "2700-2849\n",
      "2850-2999\n",
      "3000-3149\n"
     ]
    }
   ],
   "source": [
    "res = get_all_data(full_range_param)"
   ]
  },
  {
   "cell_type": "code",
   "execution_count": 9,
   "metadata": {},
   "outputs": [],
   "source": [
    "df = pd.DataFrame(res.tolist())"
   ]
  },
  {
   "cell_type": "code",
   "execution_count": 10,
   "metadata": {},
   "outputs": [
    {
     "data": {
      "text/plain": [
       "(3150, 41)"
      ]
     },
     "execution_count": 10,
     "metadata": {},
     "output_type": "execute_result"
    }
   ],
   "source": [
    "df.shape"
   ]
  },
  {
   "cell_type": "code",
   "execution_count": 11,
   "metadata": {},
   "outputs": [
    {
     "data": {
      "text/html": [
       "<div>\n",
       "<style scoped>\n",
       "    .dataframe tbody tr th:only-of-type {\n",
       "        vertical-align: middle;\n",
       "    }\n",
       "\n",
       "    .dataframe tbody tr th {\n",
       "        vertical-align: top;\n",
       "    }\n",
       "\n",
       "    .dataframe thead th {\n",
       "        text-align: right;\n",
       "    }\n",
       "</style>\n",
       "<table border=\"1\" class=\"dataframe\">\n",
       "  <thead>\n",
       "    <tr style=\"text-align: right;\">\n",
       "      <th></th>\n",
       "      <th>id</th>\n",
       "      <th>intitule</th>\n",
       "      <th>description</th>\n",
       "      <th>dateCreation</th>\n",
       "      <th>dateActualisation</th>\n",
       "      <th>lieuTravail</th>\n",
       "      <th>romeCode</th>\n",
       "      <th>romeLibelle</th>\n",
       "      <th>appellationlibelle</th>\n",
       "      <th>entreprise</th>\n",
       "      <th>...</th>\n",
       "      <th>secteurActivite</th>\n",
       "      <th>secteurActiviteLibelle</th>\n",
       "      <th>origineOffre</th>\n",
       "      <th>offresManqueCandidats</th>\n",
       "      <th>contexteTravail</th>\n",
       "      <th>qualitesProfessionnelles</th>\n",
       "      <th>formations</th>\n",
       "      <th>experienceCommentaire</th>\n",
       "      <th>complementExercice</th>\n",
       "      <th>conditionExercice</th>\n",
       "    </tr>\n",
       "  </thead>\n",
       "  <tbody>\n",
       "    <tr>\n",
       "      <th>0</th>\n",
       "      <td>190PKVQ</td>\n",
       "      <td>Mécanicien / Mécanicienne agricole (H/F)</td>\n",
       "      <td>urgent!!!!\\nmécanicien agricole polyvalent \\ne...</td>\n",
       "      <td>2025-04-03T14:15:51.738Z</td>\n",
       "      <td>2025-04-03T14:15:52.276Z</td>\n",
       "      <td>{'libelle': '2B - LUCCIANA', 'latitude': 42.54...</td>\n",
       "      <td>I1603</td>\n",
       "      <td>Mécanicien-réparateur / Mécanicienne-réparatri...</td>\n",
       "      <td>Mécanicien / Mécanicienne agricole</td>\n",
       "      <td>{'nom': 'SCEA SANTINI', 'entrepriseAdaptee': F...</td>\n",
       "      <td>...</td>\n",
       "      <td>01</td>\n",
       "      <td>Culture de légumes, de melons, de racines et d...</td>\n",
       "      <td>{'origine': '1', 'urlOrigine': 'https://candid...</td>\n",
       "      <td>False</td>\n",
       "      <td>{'horaires': ['35H Travail en journée']}</td>\n",
       "      <td>NaN</td>\n",
       "      <td>NaN</td>\n",
       "      <td>NaN</td>\n",
       "      <td>NaN</td>\n",
       "      <td>NaN</td>\n",
       "    </tr>\n",
       "    <tr>\n",
       "      <th>1</th>\n",
       "      <td>190PKVP</td>\n",
       "      <td>CDD AGENT D'EXPLOITATION DES ROUTES PLOËRMEL (...</td>\n",
       "      <td>Votre environnement de travail:\\nLa Direction ...</td>\n",
       "      <td>2025-04-03T14:15:40.636Z</td>\n",
       "      <td>2025-04-03T14:15:41.303Z</td>\n",
       "      <td>{'libelle': '56 - Ploërmel', 'latitude': 47.91...</td>\n",
       "      <td>I1202</td>\n",
       "      <td>Agent / Agente d'entretien de la voirie</td>\n",
       "      <td>Agent / Agente d'exploitation de la voirie</td>\n",
       "      <td>{'nom': 'DEPARTEMENT DU MORBIHAN', 'entreprise...</td>\n",
       "      <td>...</td>\n",
       "      <td>84</td>\n",
       "      <td>Administration publique générale</td>\n",
       "      <td>{'origine': '1', 'urlOrigine': 'https://candid...</td>\n",
       "      <td>False</td>\n",
       "      <td>{'horaires': ['39H Travail en journée']}</td>\n",
       "      <td>[{'libelle': 'Faire preuve d'autonomie', 'desc...</td>\n",
       "      <td>NaN</td>\n",
       "      <td>NaN</td>\n",
       "      <td>NaN</td>\n",
       "      <td>NaN</td>\n",
       "    </tr>\n",
       "    <tr>\n",
       "      <th>2</th>\n",
       "      <td>190PKVN</td>\n",
       "      <td>Shopping Planner (H/F)</td>\n",
       "      <td>Devenez Shopping Planner Indépendant(e) chez E...</td>\n",
       "      <td>2025-04-03T14:15:39.510Z</td>\n",
       "      <td>2025-04-03T14:15:40.076Z</td>\n",
       "      <td>{'libelle': '14 - CAEN', 'latitude': 49.184316...</td>\n",
       "      <td>D1403</td>\n",
       "      <td>Commercial / Commerciale auprès des particuliers</td>\n",
       "      <td>Conseiller vendeur / Conseillère vendeuse à do...</td>\n",
       "      <td>{'nom': 'ELORA', 'description': 'Elora, la réf...</td>\n",
       "      <td>...</td>\n",
       "      <td>47</td>\n",
       "      <td>Vente à domicile</td>\n",
       "      <td>{'origine': '1', 'urlOrigine': 'https://candid...</td>\n",
       "      <td>False</td>\n",
       "      <td>{}</td>\n",
       "      <td>[{'libelle': 'Faire preuve de persévérance', '...</td>\n",
       "      <td>NaN</td>\n",
       "      <td>NaN</td>\n",
       "      <td>NaN</td>\n",
       "      <td>NaN</td>\n",
       "    </tr>\n",
       "    <tr>\n",
       "      <th>3</th>\n",
       "      <td>190PKVM</td>\n",
       "      <td>Technicien / Technicienne d'entretien et de ma...</td>\n",
       "      <td>Notre agence de travail temporaire TRIANGLE IN...</td>\n",
       "      <td>2025-04-03T14:15:36.552Z</td>\n",
       "      <td>2025-04-03T14:15:37.214Z</td>\n",
       "      <td>{'libelle': '50 - LA HAGUE', 'latitude': 49.65...</td>\n",
       "      <td>I1203</td>\n",
       "      <td>Agent / Agente d'entretien du bâtiment</td>\n",
       "      <td>Technicien(ne) d'entretien et de maintenance d...</td>\n",
       "      <td>{'nom': 'TRIANGLE SOLUTIONS RH', 'description'...</td>\n",
       "      <td>...</td>\n",
       "      <td>78</td>\n",
       "      <td>Activités des agences de travail temporaire</td>\n",
       "      <td>{'origine': '1', 'urlOrigine': 'https://candid...</td>\n",
       "      <td>False</td>\n",
       "      <td>{'horaires': ['37H Travail en journée']}</td>\n",
       "      <td>[{'libelle': 'Organiser son travail selon les ...</td>\n",
       "      <td>NaN</td>\n",
       "      <td>NaN</td>\n",
       "      <td>NaN</td>\n",
       "      <td>NaN</td>\n",
       "    </tr>\n",
       "    <tr>\n",
       "      <th>4</th>\n",
       "      <td>190PKVL</td>\n",
       "      <td>Animateur / Animatrice périscolaire (H/F)</td>\n",
       "      <td>Nous recherchons un-e Animateur-trice périscol...</td>\n",
       "      <td>2025-04-03T14:15:33.088Z</td>\n",
       "      <td>2025-04-03T14:15:33.678Z</td>\n",
       "      <td>{'libelle': '67 - Ernolsheim-Bruche', 'latitud...</td>\n",
       "      <td>G1203</td>\n",
       "      <td>Animateur / Animatrice auprès des jeunes</td>\n",
       "      <td>Animateur / Animatrice d'activités périscolaires</td>\n",
       "      <td>{'nom': 'ASS DE LOISIRS EDUCATIFS ET DE FORMAT...</td>\n",
       "      <td>...</td>\n",
       "      <td>88</td>\n",
       "      <td>Autre accueil ou accompagnement sans hébergeme...</td>\n",
       "      <td>{'origine': '1', 'urlOrigine': 'https://candid...</td>\n",
       "      <td>False</td>\n",
       "      <td>{'horaires': ['temps partiel - 10H Travail en ...</td>\n",
       "      <td>[{'libelle': 'Faire preuve d'autonomie', 'desc...</td>\n",
       "      <td>[{'codeFormation': '44054', 'domaineLibelle': ...</td>\n",
       "      <td>NaN</td>\n",
       "      <td>NaN</td>\n",
       "      <td>NaN</td>\n",
       "    </tr>\n",
       "  </tbody>\n",
       "</table>\n",
       "<p>5 rows × 41 columns</p>\n",
       "</div>"
      ],
      "text/plain": [
       "        id                                           intitule  \\\n",
       "0  190PKVQ           Mécanicien / Mécanicienne agricole (H/F)   \n",
       "1  190PKVP  CDD AGENT D'EXPLOITATION DES ROUTES PLOËRMEL (...   \n",
       "2  190PKVN                             Shopping Planner (H/F)   \n",
       "3  190PKVM  Technicien / Technicienne d'entretien et de ma...   \n",
       "4  190PKVL          Animateur / Animatrice périscolaire (H/F)   \n",
       "\n",
       "                                         description  \\\n",
       "0  urgent!!!!\\nmécanicien agricole polyvalent \\ne...   \n",
       "1  Votre environnement de travail:\\nLa Direction ...   \n",
       "2  Devenez Shopping Planner Indépendant(e) chez E...   \n",
       "3  Notre agence de travail temporaire TRIANGLE IN...   \n",
       "4  Nous recherchons un-e Animateur-trice périscol...   \n",
       "\n",
       "               dateCreation         dateActualisation  \\\n",
       "0  2025-04-03T14:15:51.738Z  2025-04-03T14:15:52.276Z   \n",
       "1  2025-04-03T14:15:40.636Z  2025-04-03T14:15:41.303Z   \n",
       "2  2025-04-03T14:15:39.510Z  2025-04-03T14:15:40.076Z   \n",
       "3  2025-04-03T14:15:36.552Z  2025-04-03T14:15:37.214Z   \n",
       "4  2025-04-03T14:15:33.088Z  2025-04-03T14:15:33.678Z   \n",
       "\n",
       "                                         lieuTravail romeCode  \\\n",
       "0  {'libelle': '2B - LUCCIANA', 'latitude': 42.54...    I1603   \n",
       "1  {'libelle': '56 - Ploërmel', 'latitude': 47.91...    I1202   \n",
       "2  {'libelle': '14 - CAEN', 'latitude': 49.184316...    D1403   \n",
       "3  {'libelle': '50 - LA HAGUE', 'latitude': 49.65...    I1203   \n",
       "4  {'libelle': '67 - Ernolsheim-Bruche', 'latitud...    G1203   \n",
       "\n",
       "                                         romeLibelle  \\\n",
       "0  Mécanicien-réparateur / Mécanicienne-réparatri...   \n",
       "1            Agent / Agente d'entretien de la voirie   \n",
       "2   Commercial / Commerciale auprès des particuliers   \n",
       "3             Agent / Agente d'entretien du bâtiment   \n",
       "4           Animateur / Animatrice auprès des jeunes   \n",
       "\n",
       "                                  appellationlibelle  \\\n",
       "0                 Mécanicien / Mécanicienne agricole   \n",
       "1         Agent / Agente d'exploitation de la voirie   \n",
       "2  Conseiller vendeur / Conseillère vendeuse à do...   \n",
       "3  Technicien(ne) d'entretien et de maintenance d...   \n",
       "4   Animateur / Animatrice d'activités périscolaires   \n",
       "\n",
       "                                          entreprise  ... secteurActivite  \\\n",
       "0  {'nom': 'SCEA SANTINI', 'entrepriseAdaptee': F...  ...              01   \n",
       "1  {'nom': 'DEPARTEMENT DU MORBIHAN', 'entreprise...  ...              84   \n",
       "2  {'nom': 'ELORA', 'description': 'Elora, la réf...  ...              47   \n",
       "3  {'nom': 'TRIANGLE SOLUTIONS RH', 'description'...  ...              78   \n",
       "4  {'nom': 'ASS DE LOISIRS EDUCATIFS ET DE FORMAT...  ...              88   \n",
       "\n",
       "                              secteurActiviteLibelle  \\\n",
       "0  Culture de légumes, de melons, de racines et d...   \n",
       "1                   Administration publique générale   \n",
       "2                                   Vente à domicile   \n",
       "3        Activités des agences de travail temporaire   \n",
       "4  Autre accueil ou accompagnement sans hébergeme...   \n",
       "\n",
       "                                        origineOffre offresManqueCandidats  \\\n",
       "0  {'origine': '1', 'urlOrigine': 'https://candid...                 False   \n",
       "1  {'origine': '1', 'urlOrigine': 'https://candid...                 False   \n",
       "2  {'origine': '1', 'urlOrigine': 'https://candid...                 False   \n",
       "3  {'origine': '1', 'urlOrigine': 'https://candid...                 False   \n",
       "4  {'origine': '1', 'urlOrigine': 'https://candid...                 False   \n",
       "\n",
       "                                     contexteTravail  \\\n",
       "0           {'horaires': ['35H Travail en journée']}   \n",
       "1           {'horaires': ['39H Travail en journée']}   \n",
       "2                                                 {}   \n",
       "3           {'horaires': ['37H Travail en journée']}   \n",
       "4  {'horaires': ['temps partiel - 10H Travail en ...   \n",
       "\n",
       "                            qualitesProfessionnelles  \\\n",
       "0                                                NaN   \n",
       "1  [{'libelle': 'Faire preuve d'autonomie', 'desc...   \n",
       "2  [{'libelle': 'Faire preuve de persévérance', '...   \n",
       "3  [{'libelle': 'Organiser son travail selon les ...   \n",
       "4  [{'libelle': 'Faire preuve d'autonomie', 'desc...   \n",
       "\n",
       "                                          formations experienceCommentaire  \\\n",
       "0                                                NaN                   NaN   \n",
       "1                                                NaN                   NaN   \n",
       "2                                                NaN                   NaN   \n",
       "3                                                NaN                   NaN   \n",
       "4  [{'codeFormation': '44054', 'domaineLibelle': ...                   NaN   \n",
       "\n",
       "  complementExercice conditionExercice  \n",
       "0                NaN               NaN  \n",
       "1                NaN               NaN  \n",
       "2                NaN               NaN  \n",
       "3                NaN               NaN  \n",
       "4                NaN               NaN  \n",
       "\n",
       "[5 rows x 41 columns]"
      ]
     },
     "execution_count": 11,
     "metadata": {},
     "output_type": "execute_result"
    }
   ],
   "source": [
    "df.head()"
   ]
  },
  {
   "cell_type": "markdown",
   "metadata": {},
   "source": [
    "### Export csv"
   ]
  },
  {
   "cell_type": "code",
   "execution_count": 12,
   "metadata": {},
   "outputs": [],
   "source": [
    "#df.to_csv('full_recherche_emploi_brut.csv')"
   ]
  },
  {
   "cell_type": "code",
   "execution_count": null,
   "metadata": {},
   "outputs": [],
   "source": []
  }
 ],
 "metadata": {
  "kernelspec": {
   "display_name": ".venv",
   "language": "python",
   "name": "python3"
  },
  "language_info": {
   "codemirror_mode": {
    "name": "ipython",
    "version": 3
   },
   "file_extension": ".py",
   "mimetype": "text/x-python",
   "name": "python",
   "nbconvert_exporter": "python",
   "pygments_lexer": "ipython3",
   "version": "3.11.9"
  }
 },
 "nbformat": 4,
 "nbformat_minor": 2
}
