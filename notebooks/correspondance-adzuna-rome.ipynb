{
 "cells": [
  {
   "cell_type": "code",
   "execution_count": 2,
   "metadata": {},
   "outputs": [
    {
     "name": "stdout",
     "output_type": "stream",
     "text": [
      "<class 'pandas.core.frame.DataFrame'>\n",
      "RangeIndex: 157 entries, 0 to 156\n",
      "Data columns (total 4 columns):\n",
      " #   Column              Non-Null Count  Dtype \n",
      "---  ------              --------------  ----- \n",
      " 0   categorie_adzuna    157 non-null    object\n",
      " 1   description_adzuna  157 non-null    object\n",
      " 2   code_rome           157 non-null    object\n",
      " 3   description_rome    157 non-null    object\n",
      "dtypes: object(4)\n",
      "memory usage: 5.0+ KB\n"
     ]
    }
   ],
   "source": [
    "import pandas as pd\n",
    "\n",
    "correspondance_df = pd.read_csv(\"./../data/correspondance-adzuna-rome.csv\")\n",
    "correspondance_df.info()"
   ]
  },
  {
   "cell_type": "code",
   "execution_count": 3,
   "metadata": {},
   "outputs": [
    {
     "name": "stdout",
     "output_type": "stream",
     "text": [
      "Aperçu du DataFrame:\n",
      "  categorie_adzuna                       description_adzuna code_rome  \\\n",
      "0          it-jobs  Emplois en informatique et technologies     M1801   \n",
      "1          it-jobs  Emplois en informatique et technologies     M1802   \n",
      "2          it-jobs  Emplois en informatique et technologies     M1803   \n",
      "3          it-jobs  Emplois en informatique et technologies     M1805   \n",
      "4          it-jobs  Emplois en informatique et technologies     M1806   \n",
      "\n",
      "                                    description_rome  \n",
      "0           Administration de systèmes d'information  \n",
      "1     Expertise et support en systèmes d'information  \n",
      "2               Direction des systèmes d'information  \n",
      "3               Études et développement informatique  \n",
      "4  Conseil et maîtrise d'ouvrage en systèmes d'in...  \n"
     ]
    }
   ],
   "source": [
    "print(\"Aperçu du DataFrame:\")\n",
    "print(correspondance_df.head())"
   ]
  },
  {
   "cell_type": "code",
   "execution_count": 4,
   "metadata": {},
   "outputs": [
    {
     "name": "stdout",
     "output_type": "stream",
     "text": [
      "\n",
      "Nombre de correspondances par catégorie Adzuna:\n",
      "categorie_adzuna\n",
      "hospitality-catering-jobs        16\n",
      "teaching-jobs                    10\n",
      "healthcare-nursing-jobs           9\n",
      "social-work-counselling-jobs      9\n",
      "logistics-warehouse-jobs          8\n",
      "pr-advertising-marketing-jobs     8\n",
      "creative-design-jobs              8\n",
      "scientific-qa-jobs                7\n",
      "accounting-finance-jobs           7\n",
      "manufacturing-jobs                7\n",
      "retail-jobs                       7\n",
      "it-jobs                           6\n",
      "admin-jobs                        6\n",
      "sales-jobs                        6\n",
      "legal-jobs                        5\n",
      "maintenance-jobs                  5\n",
      "travel-jobs                       5\n",
      "engineering-jobs                  4\n",
      "customer-services-jobs            4\n",
      "property-jobs                     4\n",
      "security-jobs                     4\n",
      "graduate-jobs                     3\n",
      "hr-jobs                           3\n",
      "charity-voluntary-jobs            2\n",
      "domestic-help-cleaning-jobs       2\n",
      "facilities-jobs                   2\n",
      "Name: count, dtype: int64\n"
     ]
    }
   ],
   "source": [
    "print(\"\\nNombre de correspondances par catégorie Adzuna:\")\n",
    "print(correspondance_df['categorie_adzuna'].value_counts())"
   ]
  },
  {
   "cell_type": "code",
   "execution_count": 5,
   "metadata": {},
   "outputs": [
    {
     "name": "stdout",
     "output_type": "stream",
     "text": [
      "\n",
      "Codes ROME pour la catégorie 'it-jobs':\n",
      "  code_rome                                   description_rome\n",
      "0     M1801           Administration de systèmes d'information\n",
      "1     M1802     Expertise et support en systèmes d'information\n",
      "2     M1803               Direction des systèmes d'information\n",
      "3     M1805               Études et développement informatique\n",
      "4     M1806  Conseil et maîtrise d'ouvrage en systèmes d'in...\n",
      "5     M1810  Production et exploitation de systèmes d'infor...\n"
     ]
    }
   ],
   "source": [
    "# Exemple 1: Filtrer pour trouver tous les codes ROME correspondant à une catégorie Adzuna\n",
    "categorie_recherchee = \"it-jobs\"\n",
    "codes_rome_filtres = correspondance_df[correspondance_df['categorie_adzuna'] == categorie_recherchee]\n",
    "print(f\"\\nCodes ROME pour la catégorie '{categorie_recherchee}':\")\n",
    "print(codes_rome_filtres[['code_rome', 'description_rome']])"
   ]
  },
  {
   "cell_type": "code",
   "execution_count": 6,
   "metadata": {},
   "outputs": [
    {
     "name": "stdout",
     "output_type": "stream",
     "text": [
      "\n",
      "Catégories Adzuna pour le code ROME 'M1805':\n",
      "  categorie_adzuna                       description_adzuna\n",
      "3          it-jobs  Emplois en informatique et technologies\n"
     ]
    }
   ],
   "source": [
    "# Exemple 2: Rechercher une catégorie Adzuna à partir d'un code ROME\n",
    "code_rome_recherche = \"M1805\"  # Études et développement informatique\n",
    "categories_adzuna = correspondance_df[correspondance_df['code_rome'] == code_rome_recherche]\n",
    "print(f\"\\nCatégories Adzuna pour le code ROME '{code_rome_recherche}':\")\n",
    "print(categories_adzuna[['categorie_adzuna', 'description_adzuna']])"
   ]
  },
  {
   "cell_type": "code",
   "execution_count": 7,
   "metadata": {},
   "outputs": [
    {
     "name": "stdout",
     "output_type": "stream",
     "text": [
      "\n",
      "Résultats pour le mot-clé 'développement':\n",
      "                 categorie_adzuna code_rome  \\\n",
      "3                         it-jobs     M1805   \n",
      "7                engineering-jobs     H1206   \n",
      "27                        hr-jobs     M1502   \n",
      "31  pr-advertising-marketing-jobs     E1401   \n",
      "59           creative-design-jobs     E1401   \n",
      "90             scientific-qa-jobs     H1206   \n",
      "\n",
      "                                     description_rome  \n",
      "3                Études et développement informatique  \n",
      "7   Management et ingénierie études recherche et d...  \n",
      "27              Développement des ressources humaines  \n",
      "31            Développement et promotion publicitaire  \n",
      "59            Développement et promotion publicitaire  \n",
      "90  Management et ingénierie études recherche et d...  \n"
     ]
    }
   ],
   "source": [
    "# Exemple 3: Fonction pour rechercher des correspondances par mot-clé\n",
    "def rechercher_par_mot_cle(df, mot_cle):\n",
    "    \"\"\"Recherche des correspondances par mot-clé dans les descriptions\"\"\"\n",
    "    mask = (\n",
    "        df['description_adzuna'].str.contains(mot_cle, case=False) | \n",
    "        df['description_rome'].str.contains(mot_cle, case=False)\n",
    "    )\n",
    "    return df[mask]\n",
    "\n",
    "# Recherche par mot-clé\n",
    "mot_cle = \"développement\"\n",
    "resultats = rechercher_par_mot_cle(correspondance_df, mot_cle)\n",
    "print(f\"\\nRésultats pour le mot-clé '{mot_cle}':\")\n",
    "print(resultats[['categorie_adzuna', 'code_rome', 'description_rome']])"
   ]
  }
 ],
 "metadata": {
  "kernelspec": {
   "display_name": "myenv-3.12",
   "language": "python",
   "name": "python3"
  },
  "language_info": {
   "codemirror_mode": {
    "name": "ipython",
    "version": 3
   },
   "file_extension": ".py",
   "mimetype": "text/x-python",
   "name": "python",
   "nbconvert_exporter": "python",
   "pygments_lexer": "ipython3",
   "version": "3.12.0"
  }
 },
 "nbformat": 4,
 "nbformat_minor": 2
}
