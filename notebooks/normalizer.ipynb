{
 "cells": [
  {
   "cell_type": "code",
   "execution_count": 1,
   "id": "7fb2fdbe",
   "metadata": {},
   "outputs": [
    {
     "name": "stdout",
     "output_type": "stream",
     "text": [
      "<class 'pandas.core.frame.DataFrame'>\n",
      "RangeIndex: 1026 entries, 0 to 1025\n",
      "Data columns (total 28 columns):\n",
      " #   Column                  Non-Null Count  Dtype  \n",
      "---  ------                  --------------  -----  \n",
      " 0   id                      1026 non-null   int64  \n",
      " 1   source                  1026 non-null   object \n",
      " 2   title                   1026 non-null   object \n",
      " 3   description             1026 non-null   object \n",
      " 4   company_name            1020 non-null   object \n",
      " 5   location_name           1026 non-null   object \n",
      " 6   latitude                878 non-null    float64\n",
      " 7   longitude               878 non-null    float64\n",
      " 8   date_created            1026 non-null   object \n",
      " 9   date_updated            1026 non-null   object \n",
      " 10  contract_type           487 non-null    object \n",
      " 11  contract_duration       0 non-null      float64\n",
      " 12  working_hours           303 non-null    object \n",
      " 13  salary_min              280 non-null    float64\n",
      " 14  salary_max              275 non-null    float64\n",
      " 15  salary_currency         1026 non-null   object \n",
      " 16  salary_period           1026 non-null   object \n",
      " 17  experience_required     1026 non-null   object \n",
      " 18  category                1026 non-null   object \n",
      " 19  sector                  0 non-null      float64\n",
      " 20  application_url         1026 non-null   object \n",
      " 21  source_url              1026 non-null   object \n",
      " 22  skills                  0 non-null      float64\n",
      " 23  remote_work             0 non-null      float64\n",
      " 24  is_handicap_accessible  0 non-null      float64\n",
      " 25  code_rome               1026 non-null   object \n",
      " 26  langues                 0 non-null      float64\n",
      " 27  date_extraction         1026 non-null   object \n",
      "dtypes: float64(10), int64(1), object(17)\n",
      "memory usage: 224.6+ KB\n"
     ]
    }
   ],
   "source": [
    "import pandas as pd\n",
    "\n",
    "azuna_df = pd.read_csv(\"./../data/adzuna_jobs_20250430.csv\")\n",
    "azuna_df.info()"
   ]
  },
  {
   "cell_type": "code",
   "execution_count": null,
   "id": "91e92397",
   "metadata": {},
   "outputs": [],
   "source": [
    "azuna_df.describe()"
   ]
  },
  {
   "cell_type": "code",
   "execution_count": 2,
   "id": "cafa6970",
   "metadata": {},
   "outputs": [
    {
     "name": "stdout",
     "output_type": "stream",
     "text": [
      "<class 'pandas.core.frame.DataFrame'>\n",
      "RangeIndex: 316 entries, 0 to 315\n",
      "Data columns (total 28 columns):\n",
      " #   Column                  Non-Null Count  Dtype  \n",
      "---  ------                  --------------  -----  \n",
      " 0   id                      316 non-null    object \n",
      " 1   source                  316 non-null    object \n",
      " 2   title                   316 non-null    object \n",
      " 3   description             316 non-null    object \n",
      " 4   company_name            202 non-null    object \n",
      " 5   location_name           316 non-null    object \n",
      " 6   latitude                301 non-null    float64\n",
      " 7   longitude               301 non-null    float64\n",
      " 8   date_created            0 non-null      float64\n",
      " 9   date_updated            0 non-null      float64\n",
      " 10  contract_type           316 non-null    object \n",
      " 11  contract_duration       307 non-null    object \n",
      " 12  working_hours           21 non-null     object \n",
      " 13  salary_min              82 non-null     float64\n",
      " 14  salary_max              82 non-null     float64\n",
      " 15  salary_currency         316 non-null    object \n",
      " 16  salary_period           82 non-null     object \n",
      " 17  experience_required     316 non-null    object \n",
      " 18  category                316 non-null    object \n",
      " 19  sector                  41 non-null     object \n",
      " 20  application_url         7 non-null      object \n",
      " 21  source_url              316 non-null    object \n",
      " 22  skills                  10 non-null     object \n",
      " 23  remote_work             0 non-null      float64\n",
      " 24  is_handicap_accessible  316 non-null    bool   \n",
      " 25  code_rome               316 non-null    object \n",
      " 26  langues                 4 non-null      object \n",
      " 27  date_extraction         316 non-null    object \n",
      "dtypes: bool(1), float64(7), object(20)\n",
      "memory usage: 67.1+ KB\n"
     ]
    }
   ],
   "source": [
    "france_travail = pd.read_csv(\"./../data/france_travail_jobs_20250430.csv\")\n",
    "france_travail.info()"
   ]
  },
  {
   "cell_type": "code",
   "execution_count": null,
   "id": "16152aca",
   "metadata": {},
   "outputs": [],
   "source": [
    "france_travail.describe()"
   ]
  },
  {
   "cell_type": "code",
   "execution_count": null,
   "id": "0c073983",
   "metadata": {},
   "outputs": [],
   "source": [
    "france_travail.head()"
   ]
  },
  {
   "cell_type": "code",
   "execution_count": null,
   "id": "2cec0d93",
   "metadata": {},
   "outputs": [],
   "source": [
    "france_travail['langues'].unique()"
   ]
  },
  {
   "cell_type": "code",
   "execution_count": 3,
   "id": "d7ef38d6",
   "metadata": {},
   "outputs": [
    {
     "name": "stdout",
     "output_type": "stream",
     "text": [
      "<class 'pandas.core.frame.DataFrame'>\n",
      "RangeIndex: 1342 entries, 0 to 1341\n",
      "Data columns (total 28 columns):\n",
      " #   Column                  Non-Null Count  Dtype  \n",
      "---  ------                  --------------  -----  \n",
      " 0   id                      1342 non-null   object \n",
      " 1   source                  1342 non-null   object \n",
      " 2   title                   1342 non-null   object \n",
      " 3   description             1342 non-null   object \n",
      " 4   company_name            1222 non-null   object \n",
      " 5   location_name           1342 non-null   object \n",
      " 6   latitude                1179 non-null   float64\n",
      " 7   longitude               1179 non-null   float64\n",
      " 8   date_created            1026 non-null   object \n",
      " 9   date_updated            1026 non-null   object \n",
      " 10  contract_type           803 non-null    object \n",
      " 11  contract_duration       307 non-null    object \n",
      " 12  working_hours           324 non-null    object \n",
      " 13  salary_min              362 non-null    float64\n",
      " 14  salary_max              357 non-null    float64\n",
      " 15  salary_currency         1342 non-null   object \n",
      " 16  salary_period           1108 non-null   object \n",
      " 17  experience_required     1342 non-null   object \n",
      " 18  category                1342 non-null   object \n",
      " 19  sector                  41 non-null     object \n",
      " 20  application_url         1033 non-null   object \n",
      " 21  source_url              1342 non-null   object \n",
      " 22  skills                  10 non-null     object \n",
      " 23  remote_work             0 non-null      float64\n",
      " 24  is_handicap_accessible  316 non-null    object \n",
      " 25  code_rome               1342 non-null   object \n",
      " 26  langues                 4 non-null      object \n",
      " 27  date_extraction         1342 non-null   object \n",
      "dtypes: float64(5), object(23)\n",
      "memory usage: 293.7+ KB\n"
     ]
    }
   ],
   "source": [
    "all_jobs = pd.read_csv(\"./../data/all_jobs_20250430.csv\")\n",
    "all_jobs.info()"
   ]
  },
  {
   "cell_type": "code",
   "execution_count": 5,
   "id": "56bcd22e",
   "metadata": {},
   "outputs": [
    {
     "data": {
      "application/vnd.microsoft.datawrangler.viewer.v0+json": {
       "columns": [
        {
         "name": "index",
         "rawType": "object",
         "type": "string"
        },
        {
         "name": "latitude",
         "rawType": "float64",
         "type": "float"
        },
        {
         "name": "longitude",
         "rawType": "float64",
         "type": "float"
        },
        {
         "name": "salary_min",
         "rawType": "float64",
         "type": "float"
        },
        {
         "name": "salary_max",
         "rawType": "float64",
         "type": "float"
        },
        {
         "name": "remote_work",
         "rawType": "float64",
         "type": "float"
        }
       ],
       "conversionMethod": "pd.DataFrame",
       "ref": "f7831327-6666-45b4-8854-db15bd3a5f7e",
       "rows": [
        [
         "count",
         "1179.0",
         "1179.0",
         "362.0",
         "357.0",
         "0.0"
        ],
        [
         "mean",
         "47.07289799236641",
         "2.683891649703138",
         "37643.77762430939",
         "46220.04341736695",
         null
        ],
        [
         "std",
         "5.295286890030245",
         "5.016058080308099",
         "34358.144009445845",
         "41335.58440965334",
         null
        ],
        [
         "min",
         "-21.25",
         "-61.024174",
         "13.0",
         "13.5",
         null
        ],
        [
         "25%",
         "45.77455",
         "1.954423",
         "35000.0",
         "40000.0",
         null
        ],
        [
         "50%",
         "48.58293",
         "2.344631",
         "40000.0",
         "50000.0",
         null
        ],
        [
         "75%",
         "48.863839",
         "4.152393",
         "40000.0",
         "51000.0",
         null
        ],
        [
         "max",
         "50.720797",
         "55.540099",
         "600000.0",
         "720000.0",
         null
        ]
       ],
       "shape": {
        "columns": 5,
        "rows": 8
       }
      },
      "text/html": [
       "<div>\n",
       "<style scoped>\n",
       "    .dataframe tbody tr th:only-of-type {\n",
       "        vertical-align: middle;\n",
       "    }\n",
       "\n",
       "    .dataframe tbody tr th {\n",
       "        vertical-align: top;\n",
       "    }\n",
       "\n",
       "    .dataframe thead th {\n",
       "        text-align: right;\n",
       "    }\n",
       "</style>\n",
       "<table border=\"1\" class=\"dataframe\">\n",
       "  <thead>\n",
       "    <tr style=\"text-align: right;\">\n",
       "      <th></th>\n",
       "      <th>latitude</th>\n",
       "      <th>longitude</th>\n",
       "      <th>salary_min</th>\n",
       "      <th>salary_max</th>\n",
       "      <th>remote_work</th>\n",
       "    </tr>\n",
       "  </thead>\n",
       "  <tbody>\n",
       "    <tr>\n",
       "      <th>count</th>\n",
       "      <td>1179.000000</td>\n",
       "      <td>1179.000000</td>\n",
       "      <td>362.000000</td>\n",
       "      <td>357.000000</td>\n",
       "      <td>0.0</td>\n",
       "    </tr>\n",
       "    <tr>\n",
       "      <th>mean</th>\n",
       "      <td>47.072898</td>\n",
       "      <td>2.683892</td>\n",
       "      <td>37643.777624</td>\n",
       "      <td>46220.043417</td>\n",
       "      <td>NaN</td>\n",
       "    </tr>\n",
       "    <tr>\n",
       "      <th>std</th>\n",
       "      <td>5.295287</td>\n",
       "      <td>5.016058</td>\n",
       "      <td>34358.144009</td>\n",
       "      <td>41335.584410</td>\n",
       "      <td>NaN</td>\n",
       "    </tr>\n",
       "    <tr>\n",
       "      <th>min</th>\n",
       "      <td>-21.250000</td>\n",
       "      <td>-61.024174</td>\n",
       "      <td>13.000000</td>\n",
       "      <td>13.500000</td>\n",
       "      <td>NaN</td>\n",
       "    </tr>\n",
       "    <tr>\n",
       "      <th>25%</th>\n",
       "      <td>45.774550</td>\n",
       "      <td>1.954423</td>\n",
       "      <td>35000.000000</td>\n",
       "      <td>40000.000000</td>\n",
       "      <td>NaN</td>\n",
       "    </tr>\n",
       "    <tr>\n",
       "      <th>50%</th>\n",
       "      <td>48.582930</td>\n",
       "      <td>2.344631</td>\n",
       "      <td>40000.000000</td>\n",
       "      <td>50000.000000</td>\n",
       "      <td>NaN</td>\n",
       "    </tr>\n",
       "    <tr>\n",
       "      <th>75%</th>\n",
       "      <td>48.863839</td>\n",
       "      <td>4.152393</td>\n",
       "      <td>40000.000000</td>\n",
       "      <td>51000.000000</td>\n",
       "      <td>NaN</td>\n",
       "    </tr>\n",
       "    <tr>\n",
       "      <th>max</th>\n",
       "      <td>50.720797</td>\n",
       "      <td>55.540099</td>\n",
       "      <td>600000.000000</td>\n",
       "      <td>720000.000000</td>\n",
       "      <td>NaN</td>\n",
       "    </tr>\n",
       "  </tbody>\n",
       "</table>\n",
       "</div>"
      ],
      "text/plain": [
       "          latitude    longitude     salary_min     salary_max  remote_work\n",
       "count  1179.000000  1179.000000     362.000000     357.000000          0.0\n",
       "mean     47.072898     2.683892   37643.777624   46220.043417          NaN\n",
       "std       5.295287     5.016058   34358.144009   41335.584410          NaN\n",
       "min     -21.250000   -61.024174      13.000000      13.500000          NaN\n",
       "25%      45.774550     1.954423   35000.000000   40000.000000          NaN\n",
       "50%      48.582930     2.344631   40000.000000   50000.000000          NaN\n",
       "75%      48.863839     4.152393   40000.000000   51000.000000          NaN\n",
       "max      50.720797    55.540099  600000.000000  720000.000000          NaN"
      ]
     },
     "execution_count": 5,
     "metadata": {},
     "output_type": "execute_result"
    }
   ],
   "source": [
    "all_jobs.describe()"
   ]
  },
  {
   "cell_type": "code",
   "execution_count": null,
   "id": "4444e62c",
   "metadata": {},
   "outputs": [
    {
     "name": "stdout",
     "output_type": "stream",
     "text": [
      "475\n"
     ]
    }
   ],
   "source": [
    "nunique = all_jobs['company_name'].nunique(dropna=True)\n",
    "print(nunique)"
   ]
  }
 ],
 "metadata": {
  "kernelspec": {
   "display_name": "myenv-3.12",
   "language": "python",
   "name": "python3"
  },
  "language_info": {
   "codemirror_mode": {
    "name": "ipython",
    "version": 3
   },
   "file_extension": ".py",
   "mimetype": "text/x-python",
   "name": "python",
   "nbconvert_exporter": "python",
   "pygments_lexer": "ipython3",
   "version": "3.12.0"
  }
 },
 "nbformat": 4,
 "nbformat_minor": 5
}
