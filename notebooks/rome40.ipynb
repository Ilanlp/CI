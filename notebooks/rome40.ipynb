{
 "cells": [
  {
   "cell_type": "code",
   "execution_count": 1,
   "metadata": {},
   "outputs": [
    {
     "name": "stdout",
     "output_type": "stream",
     "text": [
      "<class 'pandas.core.frame.DataFrame'>\n",
      "RangeIndex: 13287 entries, 0 to 13286\n",
      "Data columns (total 5 columns):\n",
      " #   Column  Non-Null Count  Dtype \n",
      "---  ------  --------------  ----- \n",
      " 0   A       13287 non-null  object\n",
      " 1   B       13287 non-null  object\n",
      " 2   C       13287 non-null  object\n",
      " 3   D       13287 non-null  object\n",
      " 4   E       13287 non-null  object\n",
      "dtypes: object(5)\n",
      "memory usage: 519.2+ KB\n"
     ]
    }
   ],
   "source": [
    "import pandas as pd\n",
    "from pprint import pprint\n",
    "\n",
    "rome40 = pd.read_csv(filepath_or_buffer = '../data.gouv/rome40.csv',\n",
    "                           sep = ';',\n",
    "                           header=None, names=['A', 'B', 'C', 'D', 'E'])  # numéro de la colonne qui indexe les entrées\n",
    "\n",
    "rome40.info()\n",
    "rome40.describe()\n",
    "rome40.isna().any(axis = 1)\n",
    "rome40.isnull().sum()\n",
    "rome40 = rome40.loc[rome40['A'] != ' ']\n",
    "rome40 = rome40.loc[rome40['B'] != ' ']\n",
    "rome40 = rome40.loc[rome40['C'] != ' ']\n",
    "rome40 = rome40.loc[rome40['D'] != ' ']"
   ]
  },
  {
   "cell_type": "code",
   "execution_count": 2,
   "metadata": {},
   "outputs": [
    {
     "name": "stdout",
     "output_type": "stream",
     "text": [
      "   A   B   C                                                  D       E\n",
      "2  A  11  01        Conducteur / Conductrice d'engins agricoles       6\n",
      "3  A  11  01       Chauffeur / Chauffeuse de machines agricoles   11987\n",
      "4  A  11  01   Conducteur / Conductrice d'automoteur de récolte   38874\n",
      "5  A  11  01        Conducteur / Conductrice d'engins agricoles  404030\n",
      "6  A  11  01  Conducteur / Conductrice d'engins d'exploitati...   13254\n"
     ]
    }
   ],
   "source": [
    "print(rome40.head(5))"
   ]
  },
  {
   "cell_type": "code",
   "execution_count": 3,
   "metadata": {},
   "outputs": [
    {
     "name": "stdout",
     "output_type": "stream",
     "text": [
      "2     A1101\n",
      "17    A1102\n",
      "31    A1201\n",
      "38    A1202\n",
      "50    A1203\n",
      "60    A1204\n",
      "78    A1205\n",
      "85    A1206\n",
      "89    A1207\n",
      "92    A1208\n",
      "Name: code, dtype: object\n"
     ]
    }
   ],
   "source": [
    "rome40['code'] = rome40['A'].astype(str) + rome40['B'].astype(str) + rome40['C'].astype(str)\n",
    "\n",
    "code = rome40['code']\n",
    "code = code.drop_duplicates(keep='first')\n",
    "code.value_counts\n",
    "pprint(code.head(10))\n",
    "code.to_csv('../data.gouv/rome40-list.csv', encoding='utf-8', header=False, index=False)"
   ]
  },
  {
   "cell_type": "code",
   "execution_count": 10,
   "metadata": {},
   "outputs": [
    {
     "name": "stderr",
     "output_type": "stream",
     "text": [
      "/var/folders/c2/wwmb5wgx0nq_syd01vp_bt500000gn/T/ipykernel_83214/826809482.py:2: SettingWithCopyWarning: \n",
      "A value is trying to be set on a copy of a slice from a DataFrame.\n",
      "Try using .loc[row_indexer,col_indexer] = value instead\n",
      "\n",
      "See the caveats in the documentation: https://pandas.pydata.org/pandas-docs/stable/user_guide/indexing.html#returning-a-view-versus-a-copy\n",
      "  label[\"D\"] = label[\"D\"].str.replace(r\"^.*/ \", \"\", regex=True)\n"
     ]
    },
    {
     "data": {
      "application/vnd.microsoft.datawrangler.viewer.v0+json": {
       "columns": [
        {
         "name": "index",
         "rawType": "int64",
         "type": "integer"
        },
        {
         "name": "code",
         "rawType": "object",
         "type": "string"
        },
        {
         "name": "D",
         "rawType": "object",
         "type": "string"
        }
       ],
       "conversionMethod": "pd.DataFrame",
       "ref": "1b3cfd9f-ebbf-4eef-8de8-fa7826485b02",
       "rows": [
        [
         "2",
         "A1101",
         "Conductrice d'engins agricoles"
        ],
        [
         "3",
         "A1101",
         "Chauffeuse de machines agricoles"
        ],
        [
         "4",
         "A1101",
         "Conductrice d'automoteur de récolte"
        ],
        [
         "6",
         "A1101",
         "Conductrice d'engins d'exploitation agricole"
        ],
        [
         "7",
         "A1101",
         "Conductrice d'épareuse"
        ],
        [
         "8",
         "A1101",
         "Conductrice de machines à vendanger"
        ],
        [
         "9",
         "A1101",
         "Conductrice de matériels de semis"
        ],
        [
         "10",
         "A1101",
         "Conductrice de pulvérisateur"
        ],
        [
         "11",
         "A1101",
         "Conductrice de tracteur"
        ],
        [
         "12",
         "A1101",
         "Conductrice de tracteur enjambeur"
        ]
       ],
       "shape": {
        "columns": 2,
        "rows": 10
       }
      },
      "text/html": [
       "<div>\n",
       "<style scoped>\n",
       "    .dataframe tbody tr th:only-of-type {\n",
       "        vertical-align: middle;\n",
       "    }\n",
       "\n",
       "    .dataframe tbody tr th {\n",
       "        vertical-align: top;\n",
       "    }\n",
       "\n",
       "    .dataframe thead th {\n",
       "        text-align: right;\n",
       "    }\n",
       "</style>\n",
       "<table border=\"1\" class=\"dataframe\">\n",
       "  <thead>\n",
       "    <tr style=\"text-align: right;\">\n",
       "      <th></th>\n",
       "      <th>code</th>\n",
       "      <th>D</th>\n",
       "    </tr>\n",
       "  </thead>\n",
       "  <tbody>\n",
       "    <tr>\n",
       "      <th>2</th>\n",
       "      <td>A1101</td>\n",
       "      <td>Conductrice d'engins agricoles</td>\n",
       "    </tr>\n",
       "    <tr>\n",
       "      <th>3</th>\n",
       "      <td>A1101</td>\n",
       "      <td>Chauffeuse de machines agricoles</td>\n",
       "    </tr>\n",
       "    <tr>\n",
       "      <th>4</th>\n",
       "      <td>A1101</td>\n",
       "      <td>Conductrice d'automoteur de récolte</td>\n",
       "    </tr>\n",
       "    <tr>\n",
       "      <th>6</th>\n",
       "      <td>A1101</td>\n",
       "      <td>Conductrice d'engins d'exploitation agricole</td>\n",
       "    </tr>\n",
       "    <tr>\n",
       "      <th>7</th>\n",
       "      <td>A1101</td>\n",
       "      <td>Conductrice d'épareuse</td>\n",
       "    </tr>\n",
       "    <tr>\n",
       "      <th>8</th>\n",
       "      <td>A1101</td>\n",
       "      <td>Conductrice de machines à vendanger</td>\n",
       "    </tr>\n",
       "    <tr>\n",
       "      <th>9</th>\n",
       "      <td>A1101</td>\n",
       "      <td>Conductrice de matériels de semis</td>\n",
       "    </tr>\n",
       "    <tr>\n",
       "      <th>10</th>\n",
       "      <td>A1101</td>\n",
       "      <td>Conductrice de pulvérisateur</td>\n",
       "    </tr>\n",
       "    <tr>\n",
       "      <th>11</th>\n",
       "      <td>A1101</td>\n",
       "      <td>Conductrice de tracteur</td>\n",
       "    </tr>\n",
       "    <tr>\n",
       "      <th>12</th>\n",
       "      <td>A1101</td>\n",
       "      <td>Conductrice de tracteur enjambeur</td>\n",
       "    </tr>\n",
       "  </tbody>\n",
       "</table>\n",
       "</div>"
      ],
      "text/plain": [
       "     code                                             D\n",
       "2   A1101                Conductrice d'engins agricoles\n",
       "3   A1101              Chauffeuse de machines agricoles\n",
       "4   A1101           Conductrice d'automoteur de récolte\n",
       "6   A1101  Conductrice d'engins d'exploitation agricole\n",
       "7   A1101                        Conductrice d'épareuse\n",
       "8   A1101           Conductrice de machines à vendanger\n",
       "9   A1101             Conductrice de matériels de semis\n",
       "10  A1101                  Conductrice de pulvérisateur\n",
       "11  A1101                       Conductrice de tracteur\n",
       "12  A1101             Conductrice de tracteur enjambeur"
      ]
     },
     "execution_count": 10,
     "metadata": {},
     "output_type": "execute_result"
    }
   ],
   "source": [
    "label = rome40[['code','D']]\n",
    "label[\"D\"] = label[\"D\"].str.replace(r\"^.*/ \", \"\", regex=True)\n",
    "\n",
    "label = label.drop_duplicates(keep='first')\n",
    "\n",
    "label.to_csv('../data/rome40-label.csv', encoding='utf-8', header=False, index=False)\n",
    "label.head(10)"
   ]
  },
  {
   "cell_type": "code",
   "execution_count": null,
   "metadata": {},
   "outputs": [],
   "source": []
  }
 ],
 "metadata": {
  "kernelspec": {
   "display_name": "myenv-3.12",
   "language": "python",
   "name": "python3"
  },
  "language_info": {
   "codemirror_mode": {
    "name": "ipython",
    "version": 3
   },
   "file_extension": ".py",
   "mimetype": "text/x-python",
   "name": "python",
   "nbconvert_exporter": "python",
   "pygments_lexer": "ipython3",
   "version": "3.12.0"
  }
 },
 "nbformat": 4,
 "nbformat_minor": 2
}
