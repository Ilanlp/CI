{
 "cells": [
  {
   "cell_type": "code",
   "execution_count": 2,
   "id": "a3577f11",
   "metadata": {},
   "outputs": [
    {
     "name": "stdout",
     "output_type": "stream",
     "text": [
      "<class 'pandas.core.frame.DataFrame'>\n",
      "RangeIndex: 4998 entries, 0 to 4997\n",
      "Data columns (total 28 columns):\n",
      " #   Column                  Non-Null Count  Dtype  \n",
      "---  ------                  --------------  -----  \n",
      " 0   id                      4998 non-null   int64  \n",
      " 1   source                  4998 non-null   object \n",
      " 2   title                   4998 non-null   object \n",
      " 3   description             4998 non-null   object \n",
      " 4   company_name            4992 non-null   object \n",
      " 5   location_name           4998 non-null   object \n",
      " 6   latitude                4728 non-null   float64\n",
      " 7   longitude               4728 non-null   float64\n",
      " 8   date_created            4998 non-null   object \n",
      " 9   date_updated            4998 non-null   object \n",
      " 10  contract_type           1645 non-null   object \n",
      " 11  contract_duration       0 non-null      float64\n",
      " 12  working_hours           2564 non-null   object \n",
      " 13  salary_min              2196 non-null   float64\n",
      " 14  salary_max              2189 non-null   float64\n",
      " 15  salary_currency         4998 non-null   object \n",
      " 16  salary_period           4998 non-null   object \n",
      " 17  experience_required     0 non-null      float64\n",
      " 18  category                4998 non-null   object \n",
      " 19  sector                  0 non-null      float64\n",
      " 20  application_url         4998 non-null   object \n",
      " 21  source_url              4998 non-null   object \n",
      " 22  skills                  0 non-null      float64\n",
      " 23  remote_work             0 non-null      float64\n",
      " 24  is_handicap_accessible  0 non-null      float64\n",
      " 25  code_rome               0 non-null      float64\n",
      " 26  langues                 0 non-null      float64\n",
      " 27  date_extraction         4998 non-null   object \n",
      "dtypes: float64(12), int64(1), object(15)\n",
      "memory usage: 1.1+ MB\n"
     ]
    }
   ],
   "source": [
    "import pandas as pd\n",
    "\n",
    "azuna_df = pd.read_csv(\"./../data/adzuna_collector.csv\")\n",
    "azuna_df.info()"
   ]
  },
  {
   "cell_type": "code",
   "execution_count": 3,
   "id": "91af6962",
   "metadata": {},
   "outputs": [
    {
     "name": "stdout",
     "output_type": "stream",
     "text": [
      "<class 'pandas.core.frame.DataFrame'>\n",
      "RangeIndex: 1343 entries, 0 to 1342\n",
      "Data columns (total 28 columns):\n",
      " #   Column                  Non-Null Count  Dtype  \n",
      "---  ------                  --------------  -----  \n",
      " 0   id                      1343 non-null   object \n",
      " 1   source                  1343 non-null   object \n",
      " 2   title                   1343 non-null   object \n",
      " 3   description             1343 non-null   object \n",
      " 4   company_name            814 non-null    object \n",
      " 5   location_name           1343 non-null   object \n",
      " 6   latitude                1218 non-null   float64\n",
      " 7   longitude               1218 non-null   float64\n",
      " 8   date_created            1343 non-null   object \n",
      " 9   date_updated            1343 non-null   object \n",
      " 10  contract_type           1343 non-null   object \n",
      " 11  contract_duration       1196 non-null   object \n",
      " 12  working_hours           179 non-null    object \n",
      " 13  salary_min              300 non-null    float64\n",
      " 14  salary_max              300 non-null    float64\n",
      " 15  salary_currency         1343 non-null   object \n",
      " 16  salary_period           307 non-null    object \n",
      " 17  experience_required     1343 non-null   object \n",
      " 18  category                1343 non-null   object \n",
      " 19  sector                  361 non-null    object \n",
      " 20  application_url         68 non-null     object \n",
      " 21  source_url              1343 non-null   object \n",
      " 22  skills                  108 non-null    object \n",
      " 23  remote_work             0 non-null      float64\n",
      " 24  is_handicap_accessible  1343 non-null   bool   \n",
      " 25  code_rome               1343 non-null   object \n",
      " 26  langues                 36 non-null     object \n",
      " 27  date_extraction         1343 non-null   object \n",
      "dtypes: bool(1), float64(5), object(22)\n",
      "memory usage: 284.7+ KB\n"
     ]
    }
   ],
   "source": [
    "france_travail = pd.read_csv(\"./../data/france_travail_collector.csv\")\n",
    "france_travail.info()"
   ]
  },
  {
   "cell_type": "code",
   "execution_count": null,
   "id": "d618b489",
   "metadata": {},
   "outputs": [
    {
     "name": "stdout",
     "output_type": "stream",
     "text": [
      "<class 'pandas.core.frame.DataFrame'>\n",
      "Index: 6341 entries, 0 to 1342\n",
      "Data columns (total 28 columns):\n",
      " #   Column                  Non-Null Count  Dtype  \n",
      "---  ------                  --------------  -----  \n",
      " 0   id                      6341 non-null   object \n",
      " 1   source                  6341 non-null   object \n",
      " 2   title                   6341 non-null   object \n",
      " 3   description             6341 non-null   object \n",
      " 4   company_name            5806 non-null   object \n",
      " 5   location_name           6341 non-null   object \n",
      " 6   latitude                5946 non-null   float64\n",
      " 7   longitude               5946 non-null   float64\n",
      " 8   date_created            6341 non-null   object \n",
      " 9   date_updated            6341 non-null   object \n",
      " 10  contract_type           2988 non-null   object \n",
      " 11  contract_duration       1196 non-null   object \n",
      " 12  working_hours           2743 non-null   object \n",
      " 13  salary_min              2496 non-null   float64\n",
      " 14  salary_max              2489 non-null   float64\n",
      " 15  salary_currency         6341 non-null   object \n",
      " 16  salary_period           5305 non-null   object \n",
      " 17  experience_required     1343 non-null   object \n",
      " 18  category                6341 non-null   object \n",
      " 19  sector                  361 non-null    object \n",
      " 20  application_url         5066 non-null   object \n",
      " 21  source_url              6341 non-null   object \n",
      " 22  skills                  108 non-null    object \n",
      " 23  remote_work             0 non-null      float64\n",
      " 24  is_handicap_accessible  1343 non-null   object \n",
      " 25  code_rome               1343 non-null   object \n",
      " 26  langues                 36 non-null     object \n",
      " 27  date_extraction         6341 non-null   object \n",
      "dtypes: float64(5), object(23)\n",
      "memory usage: 1.4+ MB\n"
     ]
    }
   ],
   "source": [
    "final = pd.concat([azuna_df, france_travail])\n",
    "final.info()\n",
    "\n",
    "\n",
    "final.to_csv('../data/rome40-label.csv', encoding='utf-8', header=False, index=False)"
   ]
  }
 ],
 "metadata": {
  "kernelspec": {
   "display_name": "myenv-3.12",
   "language": "python",
   "name": "python3"
  },
  "language_info": {
   "codemirror_mode": {
    "name": "ipython",
    "version": 3
   },
   "file_extension": ".py",
   "mimetype": "text/x-python",
   "name": "python",
   "nbconvert_exporter": "python",
   "pygments_lexer": "ipython3",
   "version": "3.12.0"
  }
 },
 "nbformat": 4,
 "nbformat_minor": 5
}
