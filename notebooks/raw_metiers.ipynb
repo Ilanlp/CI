{
 "cells": [
  {
   "cell_type": "code",
   "execution_count": 155,
   "metadata": {},
   "outputs": [
    {
     "name": "stdout",
     "output_type": "stream",
     "text": [
      "<class 'pandas.core.frame.DataFrame'>\n",
      "RangeIndex: 13287 entries, 0 to 13286\n",
      "Data columns (total 5 columns):\n",
      " #   Column  Non-Null Count  Dtype \n",
      "---  ------  --------------  ----- \n",
      " 0   A       13287 non-null  object\n",
      " 1   B       13287 non-null  object\n",
      " 2   C       13287 non-null  object\n",
      " 3   D       13287 non-null  object\n",
      " 4   E       13287 non-null  object\n",
      "dtypes: object(5)\n",
      "memory usage: 519.2+ KB\n"
     ]
    }
   ],
   "source": [
    "import pandas as pd\n",
    "\n",
    "rome40 = pd.read_csv(filepath_or_buffer = '../data.gouv/rome40.csv',\n",
    "                           sep = ';',\n",
    "                           header=None, names=['A', 'B', 'C', 'D', 'E'])  # numéro de la colonne qui indexe les entrées\n",
    "\n",
    "rome40.info()\n",
    "rome40.describe()\n",
    "rome40.isna().any(axis = 1)\n",
    "rome40.isnull().sum()\n",
    "rome40 = rome40.loc[rome40['A'] != ' ']\n",
    "rome40 = rome40.loc[rome40['B'] != ' ']\n",
    "rome40 = rome40.loc[rome40['C'] != ' ']\n",
    "rome40 = rome40.loc[rome40['D'] != ' ']\n",
    "rome40['code'] = rome40['A'].astype(str) + rome40['B'].astype(str) + rome40['C'].astype(str)"
   ]
  },
  {
   "cell_type": "code",
   "execution_count": 156,
   "metadata": {},
   "outputs": [
    {
     "name": "stderr",
     "output_type": "stream",
     "text": [
      "/var/folders/c2/wwmb5wgx0nq_syd01vp_bt500000gn/T/ipykernel_21243/1709500014.py:2: SettingWithCopyWarning: \n",
      "A value is trying to be set on a copy of a slice from a DataFrame.\n",
      "Try using .loc[row_indexer,col_indexer] = value instead\n",
      "\n",
      "See the caveats in the documentation: https://pandas.pydata.org/pandas-docs/stable/user_guide/indexing.html#returning-a-view-versus-a-copy\n",
      "  rome[\"libelle\"] = rome[\"D\"]\n",
      "/var/folders/c2/wwmb5wgx0nq_syd01vp_bt500000gn/T/ipykernel_21243/1709500014.py:3: SettingWithCopyWarning: \n",
      "A value is trying to be set on a copy of a slice from a DataFrame\n",
      "\n",
      "See the caveats in the documentation: https://pandas.pydata.org/pandas-docs/stable/user_guide/indexing.html#returning-a-view-versus-a-copy\n",
      "  rome.drop(\"D\", axis=1, inplace=True)\n"
     ]
    },
    {
     "data": {
      "application/vnd.microsoft.datawrangler.viewer.v0+json": {
       "columns": [
        {
         "name": "index",
         "rawType": "int64",
         "type": "integer"
        },
        {
         "name": "code",
         "rawType": "object",
         "type": "string"
        },
        {
         "name": "libelle",
         "rawType": "object",
         "type": "string"
        }
       ],
       "conversionMethod": "pd.DataFrame",
       "ref": "cfc1c843-16dd-4f25-bde7-0bb19fb8112a",
       "rows": [
        [
         "2",
         "A1101",
         "Conducteur / Conductrice d'engins agricoles"
        ],
        [
         "3",
         "A1101",
         "Chauffeur / Chauffeuse de machines agricoles"
        ],
        [
         "4",
         "A1101",
         "Conducteur / Conductrice d'automoteur de récolte"
        ],
        [
         "6",
         "A1101",
         "Conducteur / Conductrice d'engins d'exploitation agricole"
        ],
        [
         "7",
         "A1101",
         "Conducteur / Conductrice d'épareuse"
        ],
        [
         "8",
         "A1101",
         "Conducteur / Conductrice de machines à vendanger"
        ],
        [
         "9",
         "A1101",
         "Conducteur / Conductrice de matériels de semis"
        ],
        [
         "10",
         "A1101",
         "Conducteur / Conductrice de pulvérisateur"
        ],
        [
         "11",
         "A1101",
         "Conducteur / Conductrice de tracteur"
        ],
        [
         "12",
         "A1101",
         "Conducteur / Conductrice de tracteur enjambeur"
        ]
       ],
       "shape": {
        "columns": 2,
        "rows": 10
       }
      },
      "text/html": [
       "<div>\n",
       "<style scoped>\n",
       "    .dataframe tbody tr th:only-of-type {\n",
       "        vertical-align: middle;\n",
       "    }\n",
       "\n",
       "    .dataframe tbody tr th {\n",
       "        vertical-align: top;\n",
       "    }\n",
       "\n",
       "    .dataframe thead th {\n",
       "        text-align: right;\n",
       "    }\n",
       "</style>\n",
       "<table border=\"1\" class=\"dataframe\">\n",
       "  <thead>\n",
       "    <tr style=\"text-align: right;\">\n",
       "      <th></th>\n",
       "      <th>code</th>\n",
       "      <th>libelle</th>\n",
       "    </tr>\n",
       "  </thead>\n",
       "  <tbody>\n",
       "    <tr>\n",
       "      <th>2</th>\n",
       "      <td>A1101</td>\n",
       "      <td>Conducteur / Conductrice d'engins agricoles</td>\n",
       "    </tr>\n",
       "    <tr>\n",
       "      <th>3</th>\n",
       "      <td>A1101</td>\n",
       "      <td>Chauffeur / Chauffeuse de machines agricoles</td>\n",
       "    </tr>\n",
       "    <tr>\n",
       "      <th>4</th>\n",
       "      <td>A1101</td>\n",
       "      <td>Conducteur / Conductrice d'automoteur de récolte</td>\n",
       "    </tr>\n",
       "    <tr>\n",
       "      <th>6</th>\n",
       "      <td>A1101</td>\n",
       "      <td>Conducteur / Conductrice d'engins d'exploitati...</td>\n",
       "    </tr>\n",
       "    <tr>\n",
       "      <th>7</th>\n",
       "      <td>A1101</td>\n",
       "      <td>Conducteur / Conductrice d'épareuse</td>\n",
       "    </tr>\n",
       "    <tr>\n",
       "      <th>8</th>\n",
       "      <td>A1101</td>\n",
       "      <td>Conducteur / Conductrice de machines à vendanger</td>\n",
       "    </tr>\n",
       "    <tr>\n",
       "      <th>9</th>\n",
       "      <td>A1101</td>\n",
       "      <td>Conducteur / Conductrice de matériels de semis</td>\n",
       "    </tr>\n",
       "    <tr>\n",
       "      <th>10</th>\n",
       "      <td>A1101</td>\n",
       "      <td>Conducteur / Conductrice de pulvérisateur</td>\n",
       "    </tr>\n",
       "    <tr>\n",
       "      <th>11</th>\n",
       "      <td>A1101</td>\n",
       "      <td>Conducteur / Conductrice de tracteur</td>\n",
       "    </tr>\n",
       "    <tr>\n",
       "      <th>12</th>\n",
       "      <td>A1101</td>\n",
       "      <td>Conducteur / Conductrice de tracteur enjambeur</td>\n",
       "    </tr>\n",
       "  </tbody>\n",
       "</table>\n",
       "</div>"
      ],
      "text/plain": [
       "     code                                            libelle\n",
       "2   A1101        Conducteur / Conductrice d'engins agricoles\n",
       "3   A1101       Chauffeur / Chauffeuse de machines agricoles\n",
       "4   A1101   Conducteur / Conductrice d'automoteur de récolte\n",
       "6   A1101  Conducteur / Conductrice d'engins d'exploitati...\n",
       "7   A1101                Conducteur / Conductrice d'épareuse\n",
       "8   A1101   Conducteur / Conductrice de machines à vendanger\n",
       "9   A1101     Conducteur / Conductrice de matériels de semis\n",
       "10  A1101          Conducteur / Conductrice de pulvérisateur\n",
       "11  A1101               Conducteur / Conductrice de tracteur\n",
       "12  A1101     Conducteur / Conductrice de tracteur enjambeur"
      ]
     },
     "execution_count": 156,
     "metadata": {},
     "output_type": "execute_result"
    }
   ],
   "source": [
    "rome = rome40[['code','D']]\n",
    "rome[\"libelle\"] = rome[\"D\"]\n",
    "rome.drop(\"D\", axis=1, inplace=True)\n",
    "rome = rome.drop_duplicates(keep='first')\n",
    "\n",
    "rome.head(10)"
   ]
  },
  {
   "cell_type": "code",
   "execution_count": 157,
   "metadata": {},
   "outputs": [
    {
     "name": "stdout",
     "output_type": "stream",
     "text": [
      "   A   B   C                                                  D       E   code\n",
      "2  A  11  01        Conducteur / Conductrice d'engins agricoles       6  A1101\n",
      "3  A  11  01       Chauffeur / Chauffeuse de machines agricoles   11987  A1101\n",
      "4  A  11  01   Conducteur / Conductrice d'automoteur de récolte   38874  A1101\n",
      "5  A  11  01        Conducteur / Conductrice d'engins agricoles  404030  A1101\n",
      "6  A  11  01  Conducteur / Conductrice d'engins d'exploitati...   13254  A1101\n"
     ]
    }
   ],
   "source": [
    "print(rome40.head(5))"
   ]
  },
  {
   "cell_type": "code",
   "execution_count": 158,
   "metadata": {},
   "outputs": [
    {
     "data": {
      "text/plain": [
       "2     A1101\n",
       "17    A1102\n",
       "31    A1201\n",
       "38    A1202\n",
       "50    A1203\n",
       "60    A1204\n",
       "78    A1205\n",
       "85    A1206\n",
       "89    A1207\n",
       "92    A1208\n",
       "Name: code, dtype: object"
      ]
     },
     "execution_count": 158,
     "metadata": {},
     "output_type": "execute_result"
    }
   ],
   "source": [
    "# DIM_ROMECODES\n",
    "\n",
    "code_rome = rome['code']\n",
    "code_rome = code_rome.drop_duplicates(keep='first')\n",
    "\n",
    "# code.to_csv('../data.gouv/rome40-list.csv', encoding='utf-8', header=False, index=False)\n",
    "code_rome.to_csv('../snowflake/DBT/Projet_DBT/seeds/DIM_ROMECODES.csv', encoding='utf-8', header=False, index=False)\n",
    "\n",
    "code_rome.head(10)"
   ]
  },
  {
   "cell_type": "code",
   "execution_count": 159,
   "metadata": {},
   "outputs": [
    {
     "name": "stdout",
     "output_type": "stream",
     "text": [
      "<class 'pandas.core.frame.DataFrame'>\n",
      "RangeIndex: 110 entries, 0 to 109\n",
      "Data columns (total 2 columns):\n",
      " #   Column   Non-Null Count  Dtype \n",
      "---  ------   --------------  ----- \n",
      " 0   code     110 non-null    object\n",
      " 1   libelle  110 non-null    object\n",
      "dtypes: object(2)\n",
      "memory usage: 1.8+ KB\n"
     ]
    }
   ],
   "source": [
    "# DIM_DOMAINES\n",
    "\n",
    "domaines = pd.read_csv(filepath_or_buffer = '../data/france_travail_domaines.csv', sep = ',')\n",
    "domaines.drop(domaines.columns[0], axis=1, inplace=True)\n",
    "domaines.info()\n",
    "\n",
    "\n",
    "domaines.to_csv('../snowflake/DBT/Projet_DBT/seeds/DIM_DOMAINES.csv', encoding='utf-8', header=False, index=False)"
   ]
  },
  {
   "cell_type": "code",
   "execution_count": 160,
   "metadata": {},
   "outputs": [
    {
     "name": "stdout",
     "output_type": "stream",
     "text": [
      "<class 'pandas.core.frame.DataFrame'>\n",
      "RangeIndex: 12107 entries, 0 to 12106\n",
      "Data columns (total 3 columns):\n",
      " #   Column      Non-Null Count  Dtype \n",
      "---  ------      --------------  ----- \n",
      " 0   Unnamed: 0  12107 non-null  int64 \n",
      " 1   code        12107 non-null  int64 \n",
      " 2   libelle     12107 non-null  object\n",
      "dtypes: int64(2), object(1)\n",
      "memory usage: 283.9+ KB\n"
     ]
    }
   ],
   "source": [
    "# DIM_APPELLATIONS\n",
    "\n",
    "appellations = pd.read_csv(filepath_or_buffer = '../data/france_travail_appellations.csv',\n",
    "                           sep = ',')\n",
    "appellations.info()\n",
    "appellations.head()\n",
    "appellations.drop(appellations.columns[0], axis=1, inplace=True)\n",
    "appellations.head()\n",
    "\n",
    "appellations.to_csv('../snowflake/DBT/Projet_DBT/seeds/DIM_APPELLATIONS.csv', encoding='utf-8', header=False, index=False)"
   ]
  },
  {
   "cell_type": "code",
   "execution_count": 161,
   "metadata": {},
   "outputs": [
    {
     "name": "stdout",
     "output_type": "stream",
     "text": [
      "<class 'pandas.core.frame.DataFrame'>\n",
      "Index: 12096 entries, 0 to 12107\n",
      "Data columns (total 4 columns):\n",
      " #   Column            Non-Null Count  Dtype \n",
      "---  ------            --------------  ----- \n",
      " 0   code_rome         12096 non-null  object\n",
      " 1   libelle           12096 non-null  object\n",
      " 2   code_appellation  12096 non-null  int64 \n",
      " 3   code_domaine      12096 non-null  object\n",
      "dtypes: int64(1), object(3)\n",
      "memory usage: 472.5+ KB\n"
     ]
    }
   ],
   "source": [
    "# DIM_METIERS\n",
    "\n",
    "metiers = rome.merge(right=appellations, on='libelle', how='left')\n",
    "metiers.dropna(axis = 0, how=\"all\", subset = ['code_y'], inplace=True)\n",
    "\n",
    "columns = {'code_x': 'code_rome', 'code_y': 'code_appellation'}\n",
    "metiers = metiers.rename(columns, axis = 1)\n",
    "\n",
    "types = {'code_appellation': 'int'}\n",
    "metiers = metiers.astype(types)\n",
    "\n",
    "\n",
    "\n",
    "import re\n",
    "\n",
    "def get_first_three_chars(input_string):\n",
    "    \"\"\"\n",
    "    Extrait les 3 premiers caractères d'une chaîne.\n",
    "    \n",
    "    Args:\n",
    "        input_string (str): La chaîne d'entrée\n",
    "        \n",
    "    Returns:\n",
    "        str: Les 3 premiers caractères\n",
    "    \"\"\"\n",
    "    pattern = r'^(.{3})'\n",
    "    match = re.search(pattern, input_string)\n",
    "    \n",
    "    if match:\n",
    "        return match.group(1)\n",
    "    else:\n",
    "        return None\n",
    "\n",
    "metiers[\"code_domaine\"] = metiers[\"code_rome\"].apply(get_first_three_chars)\n",
    "\n",
    "metiers.head()\n",
    "metiers.info()\n",
    "metiers.to_csv('../snowflake/DBT/Projet_DBT/seeds/RAW_METIERS.csv', encoding='utf-8', header=True, index=False)"
   ]
  }
 ],
 "metadata": {
  "kernelspec": {
   "display_name": "myenv-3.12",
   "language": "python",
   "name": "python3"
  },
  "language_info": {
   "codemirror_mode": {
    "name": "ipython",
    "version": 3
   },
   "file_extension": ".py",
   "mimetype": "text/x-python",
   "name": "python",
   "nbconvert_exporter": "python",
   "pygments_lexer": "ipython3",
   "version": "3.12.0"
  }
 },
 "nbformat": 4,
 "nbformat_minor": 2
}
